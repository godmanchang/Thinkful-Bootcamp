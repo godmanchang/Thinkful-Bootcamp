{
 "cells": [
  {
   "cell_type": "markdown",
   "metadata": {},
   "source": [
    "# Basics in Summary Statistics\n",
    "In this module, we will complete the following questions as a review/practice of summary statistics:"
   ]
  },
  {
   "cell_type": "markdown",
   "metadata": {},
   "source": [
    "1. Greg was 14, Marcia was 12, Peter was 11, Jan was 10, Bobby was 8, and Cindy was 6 when they started playing the Brady kids on The Brady Bunch.  Cousin Oliver was 8 years old when he joined the show. What are the mean, median, and mode of the kids' ages when they first appeared on the show? What are the variance, standard deviation, and standard error?\n",
    "\n",
    "2. Using these estimates, if you had to choose only one estimate of central tendency and one estimate of variance to describe the data, which would you pick and why?\n",
    "\n",
    "3. Next, Cindy has a birthday. Update your estimates- what changed, and what didn't?\n",
    "\n",
    "4. Nobody likes Cousin Oliver. Maybe the network should have used an even younger actor. Replace Cousin Oliver with 1-year-old Jessica, then recalculate again.  Does this change your choice of central tendency or variance estimation methods?\n",
    "\n",
    "5. On the 50th anniversary of The Brady Bunch, four different magazines asked their readers whether they were fans of the show.  The answers were:\n",
    " \n",
    "        TV Guide            20% fans\n",
    "        Entertainment Weekly    23% fans\n",
    "        Pop Culture Today       17% fans\n",
    "        SciPhi Phanatic     5% fans\n",
    "\n",
    "Based on these numbers, what percentage of adult Americans would you estimate were Brady Bunch fans on the 50th anniversary of the show?"
   ]
  },
  {
   "cell_type": "code",
   "execution_count": 1,
   "metadata": {},
   "outputs": [],
   "source": [
    "# Importing Relevant packages used in this notebook\n",
    "import numpy as np\n",
    "import pandas as pd\n",
    "import statistics\n",
    "\n",
    "%matplotlib inline\n",
    "import matplotlib.pyplot as plt"
   ]
  },
  {
   "cell_type": "markdown",
   "metadata": {},
   "source": [
    "Let's begin by making a pandas dataframe with the above information:"
   ]
  },
  {
   "cell_type": "code",
   "execution_count": 2,
   "metadata": {},
   "outputs": [
    {
     "data": {
      "text/html": [
       "<div>\n",
       "<style scoped>\n",
       "    .dataframe tbody tr th:only-of-type {\n",
       "        vertical-align: middle;\n",
       "    }\n",
       "\n",
       "    .dataframe tbody tr th {\n",
       "        vertical-align: top;\n",
       "    }\n",
       "\n",
       "    .dataframe thead th {\n",
       "        text-align: right;\n",
       "    }\n",
       "</style>\n",
       "<table border=\"1\" class=\"dataframe\">\n",
       "  <thead>\n",
       "    <tr style=\"text-align: right;\">\n",
       "      <th></th>\n",
       "      <th>Name</th>\n",
       "      <th>Age</th>\n",
       "    </tr>\n",
       "  </thead>\n",
       "  <tbody>\n",
       "    <tr>\n",
       "      <th>0</th>\n",
       "      <td>Greg</td>\n",
       "      <td>14</td>\n",
       "    </tr>\n",
       "    <tr>\n",
       "      <th>1</th>\n",
       "      <td>Marcia</td>\n",
       "      <td>12</td>\n",
       "    </tr>\n",
       "    <tr>\n",
       "      <th>2</th>\n",
       "      <td>Peter</td>\n",
       "      <td>11</td>\n",
       "    </tr>\n",
       "    <tr>\n",
       "      <th>3</th>\n",
       "      <td>Jan</td>\n",
       "      <td>10</td>\n",
       "    </tr>\n",
       "    <tr>\n",
       "      <th>4</th>\n",
       "      <td>Bobby</td>\n",
       "      <td>8</td>\n",
       "    </tr>\n",
       "    <tr>\n",
       "      <th>5</th>\n",
       "      <td>Cindy</td>\n",
       "      <td>6</td>\n",
       "    </tr>\n",
       "    <tr>\n",
       "      <th>6</th>\n",
       "      <td>Oliver</td>\n",
       "      <td>8</td>\n",
       "    </tr>\n",
       "  </tbody>\n",
       "</table>\n",
       "</div>"
      ],
      "text/plain": [
       "     Name  Age\n",
       "0    Greg   14\n",
       "1  Marcia   12\n",
       "2   Peter   11\n",
       "3     Jan   10\n",
       "4   Bobby    8\n",
       "5   Cindy    6\n",
       "6  Oliver    8"
      ]
     },
     "execution_count": 2,
     "metadata": {},
     "output_type": "execute_result"
    }
   ],
   "source": [
    "data = pd.DataFrame()\n",
    "data['Name'] = ['Greg', 'Marcia', 'Peter', 'Jan', 'Bobby', 'Cindy', 'Oliver']\n",
    "data['Age']  = [14, 12, 11, 10, 8, 6, 8]\n",
    "data"
   ]
  },
  {
   "cell_type": "markdown",
   "metadata": {},
   "source": [
    "### Question 1: Simple Calculations with Summary Statistics\n",
    "<i>Greg was 14, Marcia was 12, Peter was 11, Jan was 10, Bobby was 8, and Cindy was 6 when they started playing the Brady kids on The Brady Bunch.  Cousin Oliver was 8 years old when he joined the show. What are the mean, median, and mode of the kids' ages when they first appeared on the show? What are the variance, standard deviation, and standard error"
   ]
  },
  {
   "cell_type": "markdown",
   "metadata": {},
   "source": [
    "The only caveat here is that the standard deviation calculated by .describe is the sample standard deviation, when we probably want the population standard deviation instead. We can also find this using the following:"
   ]
  },
  {
   "cell_type": "markdown",
   "metadata": {},
   "source": [
    "We can summarize our calcaultions in a data frame:"
   ]
  },
  {
   "cell_type": "code",
   "execution_count": 3,
   "metadata": {},
   "outputs": [
    {
     "data": {
      "text/html": [
       "<style  type=\"text/css\" >\n",
       "</style><table id=\"T_1686956e_d999_11e9_ab8a_b831b58646b7\" ><thead>    <tr>        <th class=\"col_heading level0 col0\" >Mean</th>        <th class=\"col_heading level0 col1\" >Median</th>        <th class=\"col_heading level0 col2\" >Mode</th>        <th class=\"col_heading level0 col3\" >Var</th>        <th class=\"col_heading level0 col4\" >Std</th>        <th class=\"col_heading level0 col5\" >SE</th>    </tr></thead><tbody>\n",
       "                <tr>\n",
       "                                <td id=\"T_1686956e_d999_11e9_ab8a_b831b58646b7row0_col0\" class=\"data row0 col0\" >9.85714</td>\n",
       "                        <td id=\"T_1686956e_d999_11e9_ab8a_b831b58646b7row0_col1\" class=\"data row0 col1\" >10</td>\n",
       "                        <td id=\"T_1686956e_d999_11e9_ab8a_b831b58646b7row0_col2\" class=\"data row0 col2\" >8</td>\n",
       "                        <td id=\"T_1686956e_d999_11e9_ab8a_b831b58646b7row0_col3\" class=\"data row0 col3\" >6.40816</td>\n",
       "                        <td id=\"T_1686956e_d999_11e9_ab8a_b831b58646b7row0_col4\" class=\"data row0 col4\" >2.53144</td>\n",
       "                        <td id=\"T_1686956e_d999_11e9_ab8a_b831b58646b7row0_col5\" class=\"data row0 col5\" >0.956793</td>\n",
       "            </tr>\n",
       "    </tbody></table>"
      ],
      "text/plain": [
       "<pandas.io.formats.style.Styler at 0x1582d84f550>"
      ]
     },
     "execution_count": 3,
     "metadata": {},
     "output_type": "execute_result"
    }
   ],
   "source": [
    "def datastats(df):\n",
    "    ages = df['Age']\n",
    "    age_mean = np.mean(df['Age'])\n",
    "    age_median = np.median(df['Age'])\n",
    "    try:\n",
    "        age_mode = statistics.mode(df['Age'])\n",
    "    except:\n",
    "        d = {i : list(df['Age']).count(i) for i in set(df['Age'])}\n",
    "        age_mode = 'Error: There is no mode' \\\n",
    "            if len(set(d.values())) == 1 \\\n",
    "            else sorted([i for i in set(data) if d[i] == max(d.values())])         \n",
    "    age_var = np.var(df['Age'])\n",
    "    age_std = np.std(df['Age'])\n",
    "    age_se = np.std(df['Age']) / np.sqrt(len(df['Age']))\n",
    "        \n",
    "    age_stats = pd.DataFrame(columns=['Mean','Median','Mode','Var','Std','SE'],\n",
    "                         data=[[age_mean,age_median,age_mode,age_var,age_std,age_se]])\n",
    "    return age_stats.style.hide_index()\n",
    "    \n",
    "datastats(data)"
   ]
  },
  {
   "cell_type": "markdown",
   "metadata": {},
   "source": [
    "### Question 2: Choosing a measure of Central Tendency\n",
    "\n",
    "<i>Using these estimates, if you had to choose only one estimate of central tendency and one estimate of variance to describe the data, which would you pick and why?"
   ]
  },
  {
   "cell_type": "markdown",
   "metadata": {},
   "source": [
    "The Mean. Since there does not exists extreme outliers in our data, the mean would not be prone to shifting too far from the center. To visualize our choice, we could plot a histogram (despite being an extremely small dataset):"
   ]
  },
  {
   "cell_type": "code",
   "execution_count": 4,
   "metadata": {},
   "outputs": [
    {
     "data": {
      "image/png": "[encoded data removed]",
      "text/plain": [
       "<Figure size 1080x360 with 2 Axes>"
      ]
     },
     "metadata": {
      "needs_background": "light"
     },
     "output_type": "display_data"
    }
   ],
   "source": [
    "def pltgraphs(df):\n",
    "    plt.figure(figsize=(15, 5))\n",
    "\n",
    "    #Histogram Subplot + Meanline and mean text\n",
    "    plt.subplot(1, 2, 1)\n",
    "    plt.hist(df['Age'], color = 'r', edgecolor = 'k', alpha=0.7)\n",
    "    plt.axvline(np.mean(df['Age']), color='blue', linestyle='dashed', linewidth=1)\n",
    "    min_ylim, max_ylim = plt.ylim()\n",
    "    plt.text(np.mean(df['Age'])*1.02, max_ylim*0.9, 'Mean: {:.2f}'.format(np.mean(df['Age'])))\n",
    "\n",
    "    #Histogram Settings\n",
    "    plt.yticks(np.arange(0, 3, 1))\n",
    "    plt.xlabel('Age')\n",
    "    plt.ylabel('Frequency')\n",
    "\n",
    "    #Boxplot Subplot\n",
    "    plt.subplot(1, 2, 2)\n",
    "    plt.boxplot(df['Age'])\n",
    "    plt.show()\n",
    "\n",
    "pltgraphs(data)"
   ]
  },
  {
   "cell_type": "markdown",
   "metadata": {},
   "source": [
    "From our histogram, we can see that the mean lies within the center of the distribution of our data (even though it is relatively sparse). Our boxplot makes this even more clear. The median line is not quite centered within the IQR, and so the mean (which is less than the median) would be a better measure for central tendency (also, the boxplot proves there are no extreme outliers to be concerned about).\n",
    "\n",
    "As to the measure of variance, we can just use the standard deviation."
   ]
  },
  {
   "cell_type": "markdown",
   "metadata": {},
   "source": [
    "### Question 3: Cindy has a birthday\n",
    "\n",
    "<i>Next, Cindy has a birthday. Update your estimates- what changed, and what didn't?"
   ]
  },
  {
   "cell_type": "markdown",
   "metadata": {},
   "source": [
    "Let's go ahead and update our dataframe with this change in Cindy's age:"
   ]
  },
  {
   "cell_type": "code",
   "execution_count": 5,
   "metadata": {},
   "outputs": [],
   "source": [
    "data2 = pd.DataFrame()\n",
    "data2['Name'] = ['Greg', 'Marcia', 'Peter', 'Jan', 'Bobby', 'Cindy', 'Oliver']\n",
    "data2['Age']  = [14, 12, 11, 10, 8, 7, 8]"
   ]
  },
  {
   "cell_type": "code",
   "execution_count": 6,
   "metadata": {},
   "outputs": [
    {
     "data": {
      "text/html": [
       "<style  type=\"text/css\" >\n",
       "</style><table id=\"T_16bdaf2e_d999_11e9_9148_b831b58646b7\" ><thead>    <tr>        <th class=\"col_heading level0 col0\" >Mean</th>        <th class=\"col_heading level0 col1\" >Median</th>        <th class=\"col_heading level0 col2\" >Mode</th>        <th class=\"col_heading level0 col3\" >Var</th>        <th class=\"col_heading level0 col4\" >Std</th>        <th class=\"col_heading level0 col5\" >SE</th>    </tr></thead><tbody>\n",
       "                <tr>\n",
       "                                <td id=\"T_16bdaf2e_d999_11e9_9148_b831b58646b7row0_col0\" class=\"data row0 col0\" >10</td>\n",
       "                        <td id=\"T_16bdaf2e_d999_11e9_9148_b831b58646b7row0_col1\" class=\"data row0 col1\" >10</td>\n",
       "                        <td id=\"T_16bdaf2e_d999_11e9_9148_b831b58646b7row0_col2\" class=\"data row0 col2\" >8</td>\n",
       "                        <td id=\"T_16bdaf2e_d999_11e9_9148_b831b58646b7row0_col3\" class=\"data row0 col3\" >5.42857</td>\n",
       "                        <td id=\"T_16bdaf2e_d999_11e9_9148_b831b58646b7row0_col4\" class=\"data row0 col4\" >2.32993</td>\n",
       "                        <td id=\"T_16bdaf2e_d999_11e9_9148_b831b58646b7row0_col5\" class=\"data row0 col5\" >0.880631</td>\n",
       "            </tr>\n",
       "    </tbody></table>"
      ],
      "text/plain": [
       "<pandas.io.formats.style.Styler at 0x1582d83a780>"
      ]
     },
     "execution_count": 6,
     "metadata": {},
     "output_type": "execute_result"
    }
   ],
   "source": [
    "datastats(data2)"
   ]
  },
  {
   "cell_type": "code",
   "execution_count": 7,
   "metadata": {},
   "outputs": [
    {
     "data": {
      "text/html": [
       "<style  type=\"text/css\" >\n",
       "</style><table id=\"T_16c0934c_d999_11e9_8698_b831b58646b7\" ><thead>    <tr>        <th class=\"col_heading level0 col0\" >Mean</th>        <th class=\"col_heading level0 col1\" >Median</th>        <th class=\"col_heading level0 col2\" >Mode</th>        <th class=\"col_heading level0 col3\" >Var</th>        <th class=\"col_heading level0 col4\" >Std</th>        <th class=\"col_heading level0 col5\" >SE</th>    </tr></thead><tbody>\n",
       "                <tr>\n",
       "                                <td id=\"T_16c0934c_d999_11e9_8698_b831b58646b7row0_col0\" class=\"data row0 col0\" >9.85714</td>\n",
       "                        <td id=\"T_16c0934c_d999_11e9_8698_b831b58646b7row0_col1\" class=\"data row0 col1\" >10</td>\n",
       "                        <td id=\"T_16c0934c_d999_11e9_8698_b831b58646b7row0_col2\" class=\"data row0 col2\" >8</td>\n",
       "                        <td id=\"T_16c0934c_d999_11e9_8698_b831b58646b7row0_col3\" class=\"data row0 col3\" >6.40816</td>\n",
       "                        <td id=\"T_16c0934c_d999_11e9_8698_b831b58646b7row0_col4\" class=\"data row0 col4\" >2.53144</td>\n",
       "                        <td id=\"T_16c0934c_d999_11e9_8698_b831b58646b7row0_col5\" class=\"data row0 col5\" >0.956793</td>\n",
       "            </tr>\n",
       "    </tbody></table>"
      ],
      "text/plain": [
       "<pandas.io.formats.style.Styler at 0x1582d8305f8>"
      ]
     },
     "execution_count": 7,
     "metadata": {},
     "output_type": "execute_result"
    }
   ],
   "source": [
    "datastats(data) #original for comparison"
   ]
  },
  {
   "cell_type": "markdown",
   "metadata": {},
   "source": [
    "We can see that Cindy's birthday has made the mean and the median equivalent and lowered our variance and standard error."
   ]
  },
  {
   "cell_type": "markdown",
   "metadata": {},
   "source": [
    "### Question 4: Nobody likes Cousin Oliver\n",
    "<i>Nobody likes Cousin Oliver. Maybe the network should have used an even younger actor. Replace Cousin Oliver with 1-year-old Jessica, then recalculate again.  Does this change your choice of central tendency or variance estimation methods?</i>"
   ]
  },
  {
   "cell_type": "markdown",
   "metadata": {},
   "source": [
    "Poor Cousin Oliver. Let's go ahead and replace him with 1-year-old Jessica:"
   ]
  },
  {
   "cell_type": "code",
   "execution_count": 8,
   "metadata": {},
   "outputs": [],
   "source": [
    "data3 = pd.DataFrame()\n",
    "data3['Name'] = ['Greg', 'Marcia', 'Peter', 'Jan', 'Bobby', 'Cindy', 'Jessica']\n",
    "data3['Age']  = [14, 12, 11, 10, 8, 7, 1]"
   ]
  },
  {
   "cell_type": "code",
   "execution_count": 9,
   "metadata": {},
   "outputs": [
    {
     "data": {
      "text/html": [
       "<style  type=\"text/css\" >\n",
       "</style><table id=\"T_16c7457e_d999_11e9_8c90_b831b58646b7\" ><thead>    <tr>        <th class=\"col_heading level0 col0\" >Mean</th>        <th class=\"col_heading level0 col1\" >Median</th>        <th class=\"col_heading level0 col2\" >Mode</th>        <th class=\"col_heading level0 col3\" >Var</th>        <th class=\"col_heading level0 col4\" >Std</th>        <th class=\"col_heading level0 col5\" >SE</th>    </tr></thead><tbody>\n",
       "                <tr>\n",
       "                                <td id=\"T_16c7457e_d999_11e9_8c90_b831b58646b7row0_col0\" class=\"data row0 col0\" >9</td>\n",
       "                        <td id=\"T_16c7457e_d999_11e9_8c90_b831b58646b7row0_col1\" class=\"data row0 col1\" >10</td>\n",
       "                        <td id=\"T_16c7457e_d999_11e9_8c90_b831b58646b7row0_col2\" class=\"data row0 col2\" >Error: There is no mode</td>\n",
       "                        <td id=\"T_16c7457e_d999_11e9_8c90_b831b58646b7row0_col3\" class=\"data row0 col3\" >15.4286</td>\n",
       "                        <td id=\"T_16c7457e_d999_11e9_8c90_b831b58646b7row0_col4\" class=\"data row0 col4\" >3.92792</td>\n",
       "                        <td id=\"T_16c7457e_d999_11e9_8c90_b831b58646b7row0_col5\" class=\"data row0 col5\" >1.48461</td>\n",
       "            </tr>\n",
       "    </tbody></table>"
      ],
      "text/plain": [
       "<pandas.io.formats.style.Styler at 0x1582d7c1be0>"
      ]
     },
     "execution_count": 9,
     "metadata": {},
     "output_type": "execute_result"
    }
   ],
   "source": [
    "datastats(data3)"
   ]
  },
  {
   "cell_type": "markdown",
   "metadata": {},
   "source": [
    "We've run into an error here as we can see. There is no unique mode anymore because each age only appears once. As to our choice of central tendency and variance, let's go ahead and look at our graphs again:"
   ]
  },
  {
   "cell_type": "code",
   "execution_count": 10,
   "metadata": {},
   "outputs": [
    {
     "data": {
      "image/png": "[encoded data removed]",
      "text/plain": [
       "<Figure size 1080x360 with 2 Axes>"
      ]
     },
     "metadata": {
      "needs_background": "light"
     },
     "output_type": "display_data"
    }
   ],
   "source": [
    "pltgraphs(data3)"
   ]
  },
  {
   "cell_type": "markdown",
   "metadata": {},
   "source": [
    "We can see that the addition of the age of 1 as an extreme outlier will greatly mess with our data. It would probably be wise to use the Median here as the measure of central tendency as opposed to the mean. We should also definitely use standard deviation as opposed to Variance since it is normalized and Variance shot up like crazy with the addition of our extreme value."
   ]
  },
  {
   "cell_type": "markdown",
   "metadata": {},
   "source": [
    "### Question 5: Brady Bunch Fans"
   ]
  },
  {
   "cell_type": "markdown",
   "metadata": {},
   "source": [
    "<i>5. On the 50th anniversary of The Brady Bunch, four different magazines asked their readers whether they were fans of the show.  The answers were:\n",
    " \n",
    "        TV Guide            20% fans\n",
    "        Entertainment Weekly    23% fans\n",
    "        Pop Culture Today       17% fans\n",
    "        SciPhi Phanatic     5% fans\n",
    "\n",
    "Based on these numbers, what percentage of adult Americans would you estimate were Brady Bunch fans on the 50th anniversary of the show?"
   ]
  },
  {
   "cell_type": "markdown",
   "metadata": {},
   "source": [
    "We can probably safely remove ScPhi Phanatic magazine from our calculation (it's an outlier...and besides, you are probably quite an interesting person to read SciPhi Phanatic...), so therefore let's use the mean of the other three values:"
   ]
  },
  {
   "cell_type": "code",
   "execution_count": 11,
   "metadata": {},
   "outputs": [
    {
     "name": "stdout",
     "output_type": "stream",
     "text": [
      "20.0 %\n"
     ]
    }
   ],
   "source": [
    "fan_percent_mean = np.mean([20, 23, 17])\n",
    "print(fan_percent_mean, \"%\")"
   ]
  },
  {
   "cell_type": "markdown",
   "metadata": {},
   "source": [
    "Therefore, we can say that the 20% of adult Americans are Brady Bunch fans on the 50th anniversary of the show."
   ]
  }
 ],
 "metadata": {
  "kernelspec": {
   "display_name": "Python 3",
   "language": "python",
   "name": "python3"
  },
  "language_info": {
   "codemirror_mode": {
    "name": "ipython",
    "version": 3
   },
   "file_extension": ".py",
   "mimetype": "text/x-python",
   "name": "python",
   "nbconvert_exporter": "python",
   "pygments_lexer": "ipython3",
   "version": "3.7.3"
  }
 },
 "nbformat": 4,
 "nbformat_minor": 2
}
