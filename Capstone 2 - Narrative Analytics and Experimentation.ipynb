{
 "cells": [
  {
   "cell_type": "markdown",
   "metadata": {},
   "source": [
    "# Capstone 2: Narrative Analytics and Experimentation"
   ]
  },
  {
   "cell_type": "markdown",
   "metadata": {},
   "source": [
    "### Dataset\n",
    "This dataset is provided by Brian Ho, found at https://github.com/kimusu2008/SPSS_Example1\n",
    "\n",
    "### Problem\n",
    "An unnamed spanish worldwide ecommerce website has localized versions of its website (Spain, Argentina, Mexico, etc.). The managers notied that the spain-based users had a higher conversion rate than other spanish speaking countries, and so the international languages team wants to try translating the pages into the localized versions by locals of those spanish speaking countries - instead of having one translator do all versions (the translator was from Spain).\n",
    "\n",
    "### Experimental Design\n",
    "Two groups of users would interface with two versions of the website: one with the new, more localized translation (by a local Spanish speaker) versus the old website which was written by a Spainiard. We will check to see if conversions will increase (the number of sign-ups).\n",
    "\n",
    "### Hypothesis\n",
    "A localized translation will increase conversions in their respective countries rather than the generic Spain-spanish version.\n",
    "\n",
    "### Metric\n",
    "The number of conversions - the number of customers who sign up for the e-commerce website.\n",
    "\n",
    "### Packages and Importing our Data\n",
    "\n",
    "Let's take a look at our data for analysis:"
   ]
  },
  {
   "cell_type": "code",
   "execution_count": 16,
   "metadata": {},
   "outputs": [],
   "source": [
    "from matplotlib import pyplot as plt\n",
    "import numpy as np\n",
    "import pandas as pd\n",
    "import datetime as dt\n",
    "import seaborn as sns\n",
    "from scipy import stats\n",
    "\n",
    "import warnings\n",
    "%matplotlib inline\n",
    "warnings.filterwarnings(\"ignore\")"
   ]
  },
  {
   "cell_type": "code",
   "execution_count": 17,
   "metadata": {},
   "outputs": [],
   "source": [
    "test_df = pd.read_csv(r'C:\\Users\\edcha\\Documents\\Work Files\\Thinkful Data Science Bootcamp\\Capstone 2\\SPSS_Example1-master\\test_table.csv')\n",
    "user_df = pd.read_csv(r'C:\\Users\\edcha\\Documents\\Work Files\\Thinkful Data Science Bootcamp\\Capstone 2\\SPSS_Example1-master\\user_table.csv')"
   ]
  },
  {
   "cell_type": "code",
   "execution_count": 18,
   "metadata": {},
   "outputs": [],
   "source": [
    "df = pd.merge(test_df, user_df, how = 'inner', on = 'user_id')\n",
    "del test_df, user_df # save memory"
   ]
  },
  {
   "cell_type": "markdown",
   "metadata": {},
   "source": [
    "## EDA"
   ]
  },
  {
   "cell_type": "code",
   "execution_count": 19,
   "metadata": {},
   "outputs": [
    {
     "data": {
      "text/html": [
       "<div>\n",
       "<style scoped>\n",
       "    .dataframe tbody tr th:only-of-type {\n",
       "        vertical-align: middle;\n",
       "    }\n",
       "\n",
       "    .dataframe tbody tr th {\n",
       "        vertical-align: top;\n",
       "    }\n",
       "\n",
       "    .dataframe thead th {\n",
       "        text-align: right;\n",
       "    }\n",
       "</style>\n",
       "<table border=\"1\" class=\"dataframe\">\n",
       "  <thead>\n",
       "    <tr style=\"text-align: right;\">\n",
       "      <th></th>\n",
       "      <th>user_id</th>\n",
       "      <th>date</th>\n",
       "      <th>source</th>\n",
       "      <th>device</th>\n",
       "      <th>browser_language</th>\n",
       "      <th>ads_channel</th>\n",
       "      <th>browser</th>\n",
       "      <th>conversion</th>\n",
       "      <th>test</th>\n",
       "      <th>sex</th>\n",
       "      <th>age</th>\n",
       "      <th>country</th>\n",
       "    </tr>\n",
       "  </thead>\n",
       "  <tbody>\n",
       "    <tr>\n",
       "      <th>301349</th>\n",
       "      <td>421066</td>\n",
       "      <td>2015-12-04</td>\n",
       "      <td>SEO</td>\n",
       "      <td>Mobile</td>\n",
       "      <td>Other</td>\n",
       "      <td>NaN</td>\n",
       "      <td>Iphone_App</td>\n",
       "      <td>0</td>\n",
       "      <td>1</td>\n",
       "      <td>F</td>\n",
       "      <td>25</td>\n",
       "      <td>Mexico</td>\n",
       "    </tr>\n",
       "    <tr>\n",
       "      <th>63425</th>\n",
       "      <td>267971</td>\n",
       "      <td>2015-12-01</td>\n",
       "      <td>Ads</td>\n",
       "      <td>Mobile</td>\n",
       "      <td>ES</td>\n",
       "      <td>Yahoo</td>\n",
       "      <td>Android_App</td>\n",
       "      <td>1</td>\n",
       "      <td>1</td>\n",
       "      <td>M</td>\n",
       "      <td>44</td>\n",
       "      <td>Colombia</td>\n",
       "    </tr>\n",
       "    <tr>\n",
       "      <th>241686</th>\n",
       "      <td>125319</td>\n",
       "      <td>2015-11-30</td>\n",
       "      <td>Direct</td>\n",
       "      <td>Mobile</td>\n",
       "      <td>ES</td>\n",
       "      <td>NaN</td>\n",
       "      <td>Iphone_App</td>\n",
       "      <td>0</td>\n",
       "      <td>0</td>\n",
       "      <td>M</td>\n",
       "      <td>33</td>\n",
       "      <td>Guatemala</td>\n",
       "    </tr>\n",
       "    <tr>\n",
       "      <th>228353</th>\n",
       "      <td>461645</td>\n",
       "      <td>2015-12-04</td>\n",
       "      <td>Ads</td>\n",
       "      <td>Web</td>\n",
       "      <td>ES</td>\n",
       "      <td>Google</td>\n",
       "      <td>Chrome</td>\n",
       "      <td>0</td>\n",
       "      <td>0</td>\n",
       "      <td>M</td>\n",
       "      <td>25</td>\n",
       "      <td>Mexico</td>\n",
       "    </tr>\n",
       "    <tr>\n",
       "      <th>26361</th>\n",
       "      <td>26120</td>\n",
       "      <td>2015-11-30</td>\n",
       "      <td>SEO</td>\n",
       "      <td>Web</td>\n",
       "      <td>ES</td>\n",
       "      <td>NaN</td>\n",
       "      <td>Safari</td>\n",
       "      <td>0</td>\n",
       "      <td>1</td>\n",
       "      <td>F</td>\n",
       "      <td>40</td>\n",
       "      <td>Mexico</td>\n",
       "    </tr>\n",
       "  </tbody>\n",
       "</table>\n",
       "</div>"
      ],
      "text/plain": [
       "        user_id        date  source  device browser_language ads_channel  \\\n",
       "301349   421066  2015-12-04     SEO  Mobile            Other         NaN   \n",
       "63425    267971  2015-12-01     Ads  Mobile               ES       Yahoo   \n",
       "241686   125319  2015-11-30  Direct  Mobile               ES         NaN   \n",
       "228353   461645  2015-12-04     Ads     Web               ES      Google   \n",
       "26361     26120  2015-11-30     SEO     Web               ES         NaN   \n",
       "\n",
       "            browser  conversion  test sex  age    country  \n",
       "301349   Iphone_App           0     1   F   25     Mexico  \n",
       "63425   Android_App           1     1   M   44   Colombia  \n",
       "241686   Iphone_App           0     0   M   33  Guatemala  \n",
       "228353       Chrome           0     0   M   25     Mexico  \n",
       "26361        Safari           0     1   F   40     Mexico  "
      ]
     },
     "execution_count": 19,
     "metadata": {},
     "output_type": "execute_result"
    }
   ],
   "source": [
    "df.sample(5)"
   ]
  },
  {
   "cell_type": "code",
   "execution_count": 20,
   "metadata": {
    "scrolled": true
   },
   "outputs": [
    {
     "name": "stdout",
     "output_type": "stream",
     "text": [
      "<class 'pandas.core.frame.DataFrame'>\n",
      "Int64Index: 452867 entries, 0 to 452866\n",
      "Data columns (total 12 columns):\n",
      "user_id             452867 non-null int64\n",
      "date                452867 non-null object\n",
      "source              452867 non-null object\n",
      "device              452867 non-null object\n",
      "browser_language    452867 non-null object\n",
      "ads_channel         181693 non-null object\n",
      "browser             452867 non-null object\n",
      "conversion          452867 non-null int64\n",
      "test                452867 non-null int64\n",
      "sex                 452867 non-null object\n",
      "age                 452867 non-null int64\n",
      "country             452867 non-null object\n",
      "dtypes: int64(4), object(8)\n",
      "memory usage: 44.9+ MB\n"
     ]
    }
   ],
   "source": [
    "df.info()"
   ]
  },
  {
   "cell_type": "code",
   "execution_count": 21,
   "metadata": {},
   "outputs": [],
   "source": [
    "# Drop unneeded columns\n",
    "df.drop(['user_id', 'source', 'device', 'browser_language', 'ads_channel', 'browser', 'sex', 'age'], axis = 1, inplace = True)"
   ]
  },
  {
   "cell_type": "markdown",
   "metadata": {},
   "source": [
    "Let's summarize our data by country and the results of the test group and the control groups (test = 0 for control and test = 1 for treatment group):"
   ]
  },
  {
   "cell_type": "markdown",
   "metadata": {},
   "source": [
    "### Data Wrangling"
   ]
  },
  {
   "cell_type": "code",
   "execution_count": 22,
   "metadata": {},
   "outputs": [
    {
     "data": {
      "image/png": "[encoded data removed]",
      "text/plain": [
       "<Figure size 432x288 with 1 Axes>"
      ]
     },
     "metadata": {
      "needs_background": "light"
     },
     "output_type": "display_data"
    }
   ],
   "source": [
    "df['date'] = pd.to_datetime(df['date'], infer_datetime_format = True)\n",
    "\n",
    "# Plot our data - test versus control\n",
    "f = df[df.test==1][['date','conversion']].groupby('date').mean().plot()\n",
    "df[df.test==0][['date', 'conversion']].groupby('date').mean().plot(ax=f)\n",
    "plt.legend(['Test Group', 'Control Group'])\n",
    "plt.title('Conversion Rates over Time')\n",
    "plt.ylabel('Conversion Rate')\n",
    "plt.xlabel('Date')\n",
    "plt.show()"
   ]
  },
  {
   "cell_type": "markdown",
   "metadata": {},
   "source": [
    "We notice something strange here...something doesn't seem quite write. Let's take a look at our groups. We may have a perfect example here of simpson's paradox!"
   ]
  },
  {
   "cell_type": "code",
   "execution_count": 42,
   "metadata": {
    "scrolled": false
   },
   "outputs": [
    {
     "data": {
      "text/html": [
       "<div>\n",
       "<style scoped>\n",
       "    .dataframe tbody tr th:only-of-type {\n",
       "        vertical-align: middle;\n",
       "    }\n",
       "\n",
       "    .dataframe tbody tr th {\n",
       "        vertical-align: top;\n",
       "    }\n",
       "\n",
       "    .dataframe thead th {\n",
       "        text-align: right;\n",
       "    }\n",
       "</style>\n",
       "<table border=\"1\" class=\"dataframe\">\n",
       "  <thead>\n",
       "    <tr style=\"text-align: right;\">\n",
       "      <th></th>\n",
       "      <th>country</th>\n",
       "      <th>test</th>\n",
       "      <th>sample_size</th>\n",
       "      <th>conversions</th>\n",
       "      <th>conversion_ratio</th>\n",
       "    </tr>\n",
       "  </thead>\n",
       "  <tbody>\n",
       "    <tr>\n",
       "      <th>0</th>\n",
       "      <td>Argentina</td>\n",
       "      <td>0</td>\n",
       "      <td>9356</td>\n",
       "      <td>141</td>\n",
       "      <td>0.015071</td>\n",
       "    </tr>\n",
       "    <tr>\n",
       "      <th>1</th>\n",
       "      <td>Argentina</td>\n",
       "      <td>1</td>\n",
       "      <td>37377</td>\n",
       "      <td>513</td>\n",
       "      <td>0.013725</td>\n",
       "    </tr>\n",
       "    <tr>\n",
       "      <th>2</th>\n",
       "      <td>Bolivia</td>\n",
       "      <td>0</td>\n",
       "      <td>5550</td>\n",
       "      <td>274</td>\n",
       "      <td>0.049369</td>\n",
       "    </tr>\n",
       "    <tr>\n",
       "      <th>3</th>\n",
       "      <td>Bolivia</td>\n",
       "      <td>1</td>\n",
       "      <td>5574</td>\n",
       "      <td>267</td>\n",
       "      <td>0.047901</td>\n",
       "    </tr>\n",
       "    <tr>\n",
       "      <th>4</th>\n",
       "      <td>Chile</td>\n",
       "      <td>0</td>\n",
       "      <td>9853</td>\n",
       "      <td>474</td>\n",
       "      <td>0.048107</td>\n",
       "    </tr>\n",
       "    <tr>\n",
       "      <th>5</th>\n",
       "      <td>Chile</td>\n",
       "      <td>1</td>\n",
       "      <td>9884</td>\n",
       "      <td>507</td>\n",
       "      <td>0.051295</td>\n",
       "    </tr>\n",
       "    <tr>\n",
       "      <th>6</th>\n",
       "      <td>Colombia</td>\n",
       "      <td>0</td>\n",
       "      <td>27088</td>\n",
       "      <td>1411</td>\n",
       "      <td>0.052089</td>\n",
       "    </tr>\n",
       "    <tr>\n",
       "      <th>7</th>\n",
       "      <td>Colombia</td>\n",
       "      <td>1</td>\n",
       "      <td>26972</td>\n",
       "      <td>1364</td>\n",
       "      <td>0.050571</td>\n",
       "    </tr>\n",
       "    <tr>\n",
       "      <th>8</th>\n",
       "      <td>Costa Rica</td>\n",
       "      <td>0</td>\n",
       "      <td>2660</td>\n",
       "      <td>139</td>\n",
       "      <td>0.052256</td>\n",
       "    </tr>\n",
       "    <tr>\n",
       "      <th>9</th>\n",
       "      <td>Costa Rica</td>\n",
       "      <td>1</td>\n",
       "      <td>2649</td>\n",
       "      <td>145</td>\n",
       "      <td>0.054738</td>\n",
       "    </tr>\n",
       "    <tr>\n",
       "      <th>10</th>\n",
       "      <td>Ecuador</td>\n",
       "      <td>0</td>\n",
       "      <td>8036</td>\n",
       "      <td>395</td>\n",
       "      <td>0.049154</td>\n",
       "    </tr>\n",
       "    <tr>\n",
       "      <th>11</th>\n",
       "      <td>Ecuador</td>\n",
       "      <td>1</td>\n",
       "      <td>7859</td>\n",
       "      <td>385</td>\n",
       "      <td>0.048988</td>\n",
       "    </tr>\n",
       "    <tr>\n",
       "      <th>12</th>\n",
       "      <td>El Salvador</td>\n",
       "      <td>0</td>\n",
       "      <td>4108</td>\n",
       "      <td>220</td>\n",
       "      <td>0.053554</td>\n",
       "    </tr>\n",
       "    <tr>\n",
       "      <th>13</th>\n",
       "      <td>El Salvador</td>\n",
       "      <td>1</td>\n",
       "      <td>4067</td>\n",
       "      <td>195</td>\n",
       "      <td>0.047947</td>\n",
       "    </tr>\n",
       "    <tr>\n",
       "      <th>14</th>\n",
       "      <td>Guatemala</td>\n",
       "      <td>0</td>\n",
       "      <td>7622</td>\n",
       "      <td>386</td>\n",
       "      <td>0.050643</td>\n",
       "    </tr>\n",
       "    <tr>\n",
       "      <th>15</th>\n",
       "      <td>Guatemala</td>\n",
       "      <td>1</td>\n",
       "      <td>7503</td>\n",
       "      <td>365</td>\n",
       "      <td>0.048647</td>\n",
       "    </tr>\n",
       "    <tr>\n",
       "      <th>16</th>\n",
       "      <td>Honduras</td>\n",
       "      <td>0</td>\n",
       "      <td>4361</td>\n",
       "      <td>222</td>\n",
       "      <td>0.050906</td>\n",
       "    </tr>\n",
       "    <tr>\n",
       "      <th>17</th>\n",
       "      <td>Honduras</td>\n",
       "      <td>1</td>\n",
       "      <td>4207</td>\n",
       "      <td>200</td>\n",
       "      <td>0.047540</td>\n",
       "    </tr>\n",
       "    <tr>\n",
       "      <th>18</th>\n",
       "      <td>Mexico</td>\n",
       "      <td>0</td>\n",
       "      <td>64209</td>\n",
       "      <td>3178</td>\n",
       "      <td>0.049495</td>\n",
       "    </tr>\n",
       "    <tr>\n",
       "      <th>19</th>\n",
       "      <td>Mexico</td>\n",
       "      <td>1</td>\n",
       "      <td>64275</td>\n",
       "      <td>3290</td>\n",
       "      <td>0.051186</td>\n",
       "    </tr>\n",
       "    <tr>\n",
       "      <th>20</th>\n",
       "      <td>Nicaragua</td>\n",
       "      <td>0</td>\n",
       "      <td>3419</td>\n",
       "      <td>180</td>\n",
       "      <td>0.052647</td>\n",
       "    </tr>\n",
       "    <tr>\n",
       "      <th>21</th>\n",
       "      <td>Nicaragua</td>\n",
       "      <td>1</td>\n",
       "      <td>3304</td>\n",
       "      <td>179</td>\n",
       "      <td>0.054177</td>\n",
       "    </tr>\n",
       "    <tr>\n",
       "      <th>22</th>\n",
       "      <td>Panama</td>\n",
       "      <td>0</td>\n",
       "      <td>1966</td>\n",
       "      <td>92</td>\n",
       "      <td>0.046796</td>\n",
       "    </tr>\n",
       "    <tr>\n",
       "      <th>23</th>\n",
       "      <td>Panama</td>\n",
       "      <td>1</td>\n",
       "      <td>1985</td>\n",
       "      <td>98</td>\n",
       "      <td>0.049370</td>\n",
       "    </tr>\n",
       "    <tr>\n",
       "      <th>24</th>\n",
       "      <td>Paraguay</td>\n",
       "      <td>0</td>\n",
       "      <td>3650</td>\n",
       "      <td>177</td>\n",
       "      <td>0.048493</td>\n",
       "    </tr>\n",
       "    <tr>\n",
       "      <th>25</th>\n",
       "      <td>Paraguay</td>\n",
       "      <td>1</td>\n",
       "      <td>3697</td>\n",
       "      <td>182</td>\n",
       "      <td>0.049229</td>\n",
       "    </tr>\n",
       "    <tr>\n",
       "      <th>26</th>\n",
       "      <td>Peru</td>\n",
       "      <td>0</td>\n",
       "      <td>16869</td>\n",
       "      <td>842</td>\n",
       "      <td>0.049914</td>\n",
       "    </tr>\n",
       "    <tr>\n",
       "      <th>27</th>\n",
       "      <td>Peru</td>\n",
       "      <td>1</td>\n",
       "      <td>16797</td>\n",
       "      <td>850</td>\n",
       "      <td>0.050604</td>\n",
       "    </tr>\n",
       "    <tr>\n",
       "      <th>28</th>\n",
       "      <td>Spain</td>\n",
       "      <td>0</td>\n",
       "      <td>51782</td>\n",
       "      <td>4128</td>\n",
       "      <td>0.079719</td>\n",
       "    </tr>\n",
       "    <tr>\n",
       "      <th>29</th>\n",
       "      <td>Uruguay</td>\n",
       "      <td>0</td>\n",
       "      <td>415</td>\n",
       "      <td>5</td>\n",
       "      <td>0.012048</td>\n",
       "    </tr>\n",
       "    <tr>\n",
       "      <th>30</th>\n",
       "      <td>Uruguay</td>\n",
       "      <td>1</td>\n",
       "      <td>3719</td>\n",
       "      <td>48</td>\n",
       "      <td>0.012907</td>\n",
       "    </tr>\n",
       "    <tr>\n",
       "      <th>31</th>\n",
       "      <td>Venezuela</td>\n",
       "      <td>0</td>\n",
       "      <td>16149</td>\n",
       "      <td>813</td>\n",
       "      <td>0.050344</td>\n",
       "    </tr>\n",
       "    <tr>\n",
       "      <th>32</th>\n",
       "      <td>Venezuela</td>\n",
       "      <td>1</td>\n",
       "      <td>15905</td>\n",
       "      <td>779</td>\n",
       "      <td>0.048978</td>\n",
       "    </tr>\n",
       "  </tbody>\n",
       "</table>\n",
       "</div>"
      ],
      "text/plain": [
       "        country  test  sample_size  conversions  conversion_ratio\n",
       "0     Argentina     0         9356          141          0.015071\n",
       "1     Argentina     1        37377          513          0.013725\n",
       "2       Bolivia     0         5550          274          0.049369\n",
       "3       Bolivia     1         5574          267          0.047901\n",
       "4         Chile     0         9853          474          0.048107\n",
       "5         Chile     1         9884          507          0.051295\n",
       "6      Colombia     0        27088         1411          0.052089\n",
       "7      Colombia     1        26972         1364          0.050571\n",
       "8    Costa Rica     0         2660          139          0.052256\n",
       "9    Costa Rica     1         2649          145          0.054738\n",
       "10      Ecuador     0         8036          395          0.049154\n",
       "11      Ecuador     1         7859          385          0.048988\n",
       "12  El Salvador     0         4108          220          0.053554\n",
       "13  El Salvador     1         4067          195          0.047947\n",
       "14    Guatemala     0         7622          386          0.050643\n",
       "15    Guatemala     1         7503          365          0.048647\n",
       "16     Honduras     0         4361          222          0.050906\n",
       "17     Honduras     1         4207          200          0.047540\n",
       "18       Mexico     0        64209         3178          0.049495\n",
       "19       Mexico     1        64275         3290          0.051186\n",
       "20    Nicaragua     0         3419          180          0.052647\n",
       "21    Nicaragua     1         3304          179          0.054177\n",
       "22       Panama     0         1966           92          0.046796\n",
       "23       Panama     1         1985           98          0.049370\n",
       "24     Paraguay     0         3650          177          0.048493\n",
       "25     Paraguay     1         3697          182          0.049229\n",
       "26         Peru     0        16869          842          0.049914\n",
       "27         Peru     1        16797          850          0.050604\n",
       "28        Spain     0        51782         4128          0.079719\n",
       "29      Uruguay     0          415            5          0.012048\n",
       "30      Uruguay     1         3719           48          0.012907\n",
       "31    Venezuela     0        16149          813          0.050344\n",
       "32    Venezuela     1        15905          779          0.048978"
      ]
     },
     "execution_count": 42,
     "metadata": {},
     "output_type": "execute_result"
    }
   ],
   "source": [
    "# Create two tables - one with counts of sample size for control/treatment, and the other with total conversions\n",
    "sample_size = df.groupby(['country', 'test'], as_index = False).count()\n",
    "conversions = df.groupby(['country', 'test'], as_index = False).sum()\n",
    "df_summary = pd.merge(sample_size, conversions, on = ['country', 'test'])\n",
    "\n",
    "# Rename columns and add a ratio column\n",
    "df_summary.rename(columns ={'conversion_x':'sample_size', 'conversion_y':'conversions'}, inplace = True)\n",
    "df_summary['conversion_ratio'] = df_summary.conversions / df_summary.sample_size\n",
    "df_summary.drop(columns = ['date'])"
   ]
  },
  {
   "cell_type": "markdown",
   "metadata": {},
   "source": [
    "We will probably remove observations from Spain, Uruguay, and Argentina since the observations are so low and would bias our results in our testing."
   ]
  },
  {
   "cell_type": "code",
   "execution_count": 54,
   "metadata": {},
   "outputs": [],
   "source": [
    "# Set Country as Index for our dataframes\n",
    "df_summary.set_index('country', inplace = True)\n",
    "df.set_index('country', inplace = True)\n",
    "\n",
    "# Remove Spain, Uruguay, and Argentina\n",
    "df_summary.drop(['Spain', 'Uruguay', 'Argentina'], inplace = True)\n",
    "df.drop(['Spain', 'Uruguay', 'Argentina'], inplace = True)"
   ]
  },
  {
   "cell_type": "code",
   "execution_count": 63,
   "metadata": {},
   "outputs": [
    {
     "data": {
      "image/png": "[encoded data removed]",
      "text/plain": [
       "<Figure size 1440x720 with 1 Axes>"
      ]
     },
     "metadata": {},
     "output_type": "display_data"
    }
   ],
   "source": [
    "# Visual representation of our table above\n",
    "sns.set(style='whitegrid')\n",
    "f, ax = plt.subplots(figsize=(20, 10))\n",
    "df_summary_sorted = df_summary.sort_values('sample_size', ascending = False)\n",
    "\n",
    "# Plot total - sample sizes\n",
    "sns.set_color_codes('pastel')\n",
    "sns.barplot(data = df_summary_sorted.reset_index(), x = 'sample_size', y = 'country', label = 'Total Users', color = 'b', ci = None)\n",
    "\n",
    "# Plot the conversions\n",
    "sns.set_color_codes('muted')\n",
    "sns.barplot(data = df_summary_sorted.reset_index(), x = 'conversions', y = 'country', label = 'Conversions', color = 'b', ci = None)\n",
    "\n",
    "# Add a legend\n",
    "ax.legend(ncol=2, loc='lower right', frameon=True)\n",
    "ax.set(xlabel='', ylabel='')\n",
    "sns.despine(left=True, bottom=True)\n",
    "plt.show()"
   ]
  },
  {
   "cell_type": "code",
   "execution_count": 77,
   "metadata": {
    "scrolled": false
   },
   "outputs": [
    {
     "data": {
      "image/png": "[encoded data removed]",
      "text/plain": [
       "<Figure size 432x288 with 1 Axes>"
      ]
     },
     "metadata": {},
     "output_type": "display_data"
    }
   ],
   "source": [
    "df['date'] = pd.to_datetime(df['date'], infer_datetime_format = True)\n",
    "\n",
    "# Plot our data - test versus control\n",
    "f = df[df.test==1][['date','conversion']].groupby('date').mean().plot()\n",
    "df[df.test==0][['date', 'conversion']].groupby('date').mean().plot(ax=f)\n",
    "plt.legend(['Test Group', 'Control Group'])\n",
    "plt.title('Conversion Rates over Time')\n",
    "plt.ylabel('Conversion Rate')\n",
    "plt.xlabel('Date')\n",
    "plt.show()"
   ]
  },
  {
   "cell_type": "markdown",
   "metadata": {},
   "source": [
    "From our graph, we note that conversions between our test group and control group are quite similar over the 5 days. There is some fluctuation between the 2nd and 4th of December, and this might be a sign of our the results of our treatment group in regards to conversions.\n",
    "\n",
    "### T-test\n",
    "Let's see if our experimemnt is significant based off our data:"
   ]
  },
  {
   "cell_type": "code",
   "execution_count": 12,
   "metadata": {},
   "outputs": [
    {
     "name": "stdout",
     "output_type": "stream",
     "text": [
      "Test Sample Size: 174678\n",
      "Control Sample Size: 175540\n",
      "Test Proportion:  0.4988\n",
      "\n",
      "Test Conversion Rate: 0.0504\n",
      "Test Conversion Rate: 0.0501\n",
      "\n"
     ]
    },
    {
     "data": {
      "text/plain": [
       "Ttest_indResult(statistic=0.35834777774948234, pvalue=0.7200832833651563)"
      ]
     },
     "execution_count": 12,
     "metadata": {},
     "output_type": "execute_result"
    }
   ],
   "source": [
    "# Size of each group\n",
    "print('Test Sample Size:', len(df[df.test==1]))\n",
    "print('Control Sample Size:', len(df[df.test==0]))\n",
    "print('Test Proportion: % 1.4f' % df.test.mean() + '\\n')\n",
    "\n",
    "# Conversion Rate of Test and Control\n",
    "print('Test Conversion Rate: %1.4f' % df[df.test == 1].conversion.mean())\n",
    "print('Test Conversion Rate: %1.4f' % df[df.test == 0].conversion.mean() + '\\n')\n",
    "\n",
    "# T-test on test and control groups\n",
    "stats.ttest_ind(df[df.test == 1].conversion, df[df.test == 0].conversion)"
   ]
  },
  {
   "cell_type": "markdown",
   "metadata": {},
   "source": [
    "The result shows no significant difference between our groups since we have a low t-value and a high p-value. Our data thusfar does not cause us any reason to reject the null hypothesis."
   ]
  },
  {
   "cell_type": "markdown",
   "metadata": {},
   "source": [
    "Let's test this for every date of our experiment in our data so far:"
   ]
  },
  {
   "cell_type": "code",
   "execution_count": 13,
   "metadata": {
    "scrolled": true
   },
   "outputs": [
    {
     "name": "stdout",
     "output_type": "stream",
     "text": [
      "T-test results by Date of Experiment: \n",
      "\n",
      "T-Test Results for 2015-12-04\n",
      "T-Statistic: 1.3782,\t p-value: 0.1681\n",
      "\n",
      "T-Test Results for 2015-12-03\n",
      "T-Statistic: -0.3620,\t p-value: 0.7173\n",
      "\n",
      "T-Test Results for 2015-11-30\n",
      "T-Statistic: -0.8313,\t p-value: 0.4058\n",
      "\n",
      "T-Test Results for 2015-12-02\n",
      "T-Statistic: 0.5175,\t p-value: 0.6048\n",
      "\n",
      "T-Test Results for 2015-12-01\n",
      "T-Statistic: -0.2720,\t p-value: 0.7856\n",
      "\n"
     ]
    }
   ],
   "source": [
    "print('T-test results by Date of Experiment: \\n')\n",
    "\n",
    "for date in df.date.unique():\n",
    "    print('T-Test Results for', pd.to_datetime(date).date())\n",
    "    dated_data = df[df.date == date]\n",
    "    test = stats.ttest_ind(dated_data[dated_data.test == 1].conversion, dated_data[dated_data.test == 0].conversion)\n",
    "    print('T-Statistic: {:2.4f},\\t p-value: {:.4f}\\n'.format(test[0], test[1]))"
   ]
  },
  {
   "cell_type": "markdown",
   "metadata": {},
   "source": [
    "These results further shows that we do not have any statistically significant difference between our control and treatment groups, since we have low t-values and high p-values. We cannot reject our null hypothesis that the new website with localized spanish performs better in terms of conversions than our old website."
   ]
  }
 ],
 "metadata": {
  "kernelspec": {
   "display_name": "Python 3",
   "language": "python",
   "name": "python3"
  },
  "language_info": {
   "codemirror_mode": {
    "name": "ipython",
    "version": 3
   },
   "file_extension": ".py",
   "mimetype": "text/x-python",
   "name": "python",
   "nbconvert_exporter": "python",
   "pygments_lexer": "ipython3",
   "version": "3.7.3"
  }
 },
 "nbformat": 4,
 "nbformat_minor": 2
}
