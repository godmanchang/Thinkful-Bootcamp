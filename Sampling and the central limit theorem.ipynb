{
 "cells": [
  {
   "cell_type": "markdown",
   "metadata": {},
   "source": [
    "# Sampling + CLT\n",
    "Using your own Jupyter notebook, or a copy of the notebook above, reproduce the `pop1` and `pop2` populations and samples using numpy's binomial function. Specifically, create two binomially distributed populations with `n` equal to `10` and size equal to `10000`. The p-value of `pop1` should be `0.2` and the p-value of `pop2` should be `0.5`. Using a sample size of `100`, calculate the means and standard deviations of your samples."
   ]
  },
  {
   "cell_type": "code",
   "execution_count": 32,
   "metadata": {},
   "outputs": [],
   "source": [
    "import numpy as np\n",
    "import pandas as pd\n",
    "import scipy\n",
    "import matplotlib.pyplot as plt\n",
    "%matplotlib inline"
   ]
  },
  {
   "cell_type": "code",
   "execution_count": 33,
   "metadata": {},
   "outputs": [
    {
     "name": "stdout",
     "output_type": "stream",
     "text": [
      "2.06\n",
      "4.88\n",
      "1.2395160345876934\n",
      "1.5051910177781425\n"
     ]
    }
   ],
   "source": [
    "# Two Binomial Distributions (n=10, size=10000)\n",
    "pop1 = np.random.binomial(10, 0.2, 10000)\n",
    "pop2 = np.random.binomial(10, 0.5, 10000) \n",
    "\n",
    "# Two samples of size 100 from the Distributions\n",
    "sample1 = np.random.choice(pop1, 100, replace=True)\n",
    "sample2 = np.random.choice(pop2, 100, replace=True)\n",
    "\n",
    "# Means and std. dev's of samples\n",
    "print(sample1.mean())\n",
    "print(sample2.mean())\n",
    "print(sample1.std())\n",
    "print(sample2.std())"
   ]
  },
  {
   "cell_type": "markdown",
   "metadata": {},
   "source": [
    " 1. Increase the size of your samples from 100 to 1000, then calculate the means and standard deviations for your new samples and create histograms for each.  Repeat this again, decreasing the size of your samples to 20.  What values change, and what remain the same?"
   ]
  },
  {
   "cell_type": "code",
   "execution_count": 34,
   "metadata": {},
   "outputs": [
    {
     "name": "stdout",
     "output_type": "stream",
     "text": [
      "2.015\n",
      "4.951\n",
      "1.3018352430319284\n",
      "1.5781631728056513\n"
     ]
    },
    {
     "data": {
      "image/png": "[encoded data removed]",
      "text/plain": [
       "<Figure size 432x288 with 1 Axes>"
      ]
     },
     "metadata": {
      "needs_background": "light"
     },
     "output_type": "display_data"
    }
   ],
   "source": [
    "# Increasing the two samples of size 1000 from the Distributions\n",
    "sample1_b = np.random.choice(pop1, 1000, replace=True)\n",
    "sample2_b = np.random.choice(pop2, 1000, replace=True)\n",
    "\n",
    "# Means and std. dev's of samples\n",
    "print(sample1_b.mean())\n",
    "print(sample2_b.mean())\n",
    "print(sample1_b.std())\n",
    "print(sample2_b.std())\n",
    "\n",
    "# Histograms\n",
    "plt.hist(sample1_b, alpha=0.5, label='sample 1b')\n",
    "plt.hist(sample2_b, alpha=0.5, label='sample 2b')\n",
    "plt.legend(loc='upper right')\n",
    "plt.show()"
   ]
  },
  {
   "cell_type": "code",
   "execution_count": 35,
   "metadata": {
    "scrolled": true
   },
   "outputs": [
    {
     "name": "stdout",
     "output_type": "stream",
     "text": [
      "2.55\n",
      "5.25\n",
      "1.4654350889752845\n",
      "1.5771810295587503\n"
     ]
    },
    {
     "data": {
      "image/png": "[encoded data removed]",
      "text/plain": [
       "<Figure size 432x288 with 1 Axes>"
      ]
     },
     "metadata": {
      "needs_background": "light"
     },
     "output_type": "display_data"
    }
   ],
   "source": [
    "# Increasing the two samples of size 20 from the Distributions\n",
    "sample1_c = np.random.choice(pop1, 20, replace=True)\n",
    "sample2_c = np.random.choice(pop2, 20, replace=True)\n",
    "\n",
    "# Means and std. dev's of samples\n",
    "print(sample1_c.mean())\n",
    "print(sample2_c.mean())\n",
    "print(sample1_c.std())\n",
    "print(sample2_c.std())\n",
    "\n",
    "# Histograms\n",
    "plt.hist(sample1_c, alpha=0.5, label='sample 1c')\n",
    "plt.hist(sample2_c, alpha=0.5, label='sample 2c')\n",
    "plt.legend(loc='upper right')\n",
    "plt.show()"
   ]
  },
  {
   "cell_type": "markdown",
   "metadata": {},
   "source": [
    " 2. Change the probability value (`p` in the [NumPy documentation](https://docs.scipy.org/doc/numpy/reference/generated/numpy.random.binomial.html)) for `pop1` to 0.3, then take new samples and compute the t-statistic and p-value.  Then change the probability value p for group 1 to 0.4, and do it again.  What changes, and why?"
   ]
  },
  {
   "cell_type": "code",
   "execution_count": 21,
   "metadata": {},
   "outputs": [
    {
     "name": "stdout",
     "output_type": "stream",
     "text": [
      "Ttest_indResult(statistic=8.829952515939423, pvalue=5.596170442726803e-16)\n"
     ]
    }
   ],
   "source": [
    "# Changing p in pop1 to 0.3\n",
    "pop1 = np.random.binomial(10, 0.3, 10000)\n",
    "\n",
    "# New sample from new pop1\n",
    "sample1 = np.random.choice(pop1, 100, replace=True)\n",
    "\n",
    "# Calculate t-statistic and p-value\n",
    "from scipy.stats import ttest_ind\n",
    "print(ttest_ind(sample2, sample1, equal_var=False))"
   ]
  },
  {
   "cell_type": "code",
   "execution_count": 22,
   "metadata": {},
   "outputs": [
    {
     "name": "stdout",
     "output_type": "stream",
     "text": [
      "Ttest_indResult(statistic=3.8982199707630647, pvalue=0.0001330327663855085)\n"
     ]
    }
   ],
   "source": [
    "# Changing p in pop1 to 0.4\n",
    "pop1 = np.random.binomial(10, 0.4, 10000)\n",
    "\n",
    "# New sample from new pop1\n",
    "sample1 = np.random.choice(pop1, 100, replace=True)\n",
    "\n",
    "# Calculate t-statistic and p-value\n",
    "from scipy.stats import ttest_ind\n",
    "print(ttest_ind(sample2, sample1, equal_var=False))"
   ]
  },
  {
   "cell_type": "markdown",
   "metadata": {},
   "source": [
    "As we change the probability value of pop1 to be closer to that of pop2, we see our t-statistic and p-value reflect that."
   ]
  },
  {
   "cell_type": "markdown",
   "metadata": {},
   "source": [
    "We can see that the t-statistic value dropped significantly with the increase in the probability value in our distribution and that the p-value has increased slightly. However, it is very significant in both, hence, we can say that likely the difference we see in the samples meaningfully reflects the populations"
   ]
  },
  {
   "cell_type": "markdown",
   "metadata": {},
   "source": [
    " 3. Change the distribution of your populations from binomial to a distribution of your choice.  Do the sample mean values still accurately represent the population values?"
   ]
  },
  {
   "cell_type": "code",
   "execution_count": 27,
   "metadata": {},
   "outputs": [
    {
     "name": "stdout",
     "output_type": "stream",
     "text": [
      "0.9852409676313953\n",
      "0.9517068181114711\n",
      "0.02755837484895571\n",
      "0.06482742664048784\n"
     ]
    }
   ],
   "source": [
    "# Two Binomial Distributions (n=10, size=10000)\n",
    "pop1 = np.random.beta(10, 0.2, 10000)\n",
    "pop2 = np.random.beta(10, 0.5, 10000) \n",
    "\n",
    "# Two samples of size 100 from the Distributions\n",
    "sample1 = np.random.choice(pop1, 100, replace=True)\n",
    "sample2 = np.random.choice(pop2, 100, replace=True)\n",
    "\n",
    "# Means and std. dev's of samples\n",
    "print(sample1.mean())\n",
    "print(sample2.mean())\n",
    "print(sample1.std())\n",
    "print(sample2.std())"
   ]
  },
  {
   "cell_type": "markdown",
   "metadata": {},
   "source": [
    "According to CLT, since these two samples are i.i.d, we can safely assume that the sample means still accuarently represent the population values."
   ]
  },
  {
   "cell_type": "code",
   "execution_count": null,
   "metadata": {},
   "outputs": [],
   "source": []
  }
 ],
 "metadata": {
  "kernelspec": {
   "display_name": "Python 3",
   "language": "python",
   "name": "python3"
  },
  "language_info": {
   "codemirror_mode": {
    "name": "ipython",
    "version": 3
   },
   "file_extension": ".py",
   "mimetype": "text/x-python",
   "name": "python",
   "nbconvert_exporter": "python",
   "pygments_lexer": "ipython3",
   "version": "3.7.3"
  }
 },
 "nbformat": 4,
 "nbformat_minor": 2
}
