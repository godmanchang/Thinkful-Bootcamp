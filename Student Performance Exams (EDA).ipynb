{
 "cells": [
  {
   "cell_type": "markdown",
   "metadata": {},
   "source": [
    "# Students' Performance Exams\n",
    "In this moduule, we will perform an exploratory data analysis (EDA) on the Students' Performance Exams dataset hosted on Kaggle. A modified version of the dataset is embedded in Thinkful's SQL database, where we will access it using postgres.\n",
    "\n",
    "1. Are there any differences between the genders, ethnicities, and parental level of education with respect to their performances in exams?\n",
    "2. Are there any differences between the lunch types with respect to their performances in exams? If there are, how do you explain this?\n",
    "3. Does the test preparation course seem to have an effect on the exam performances?\n",
    "4. Which 2 exam scores are most correlated with each other?"
   ]
  },
  {
   "cell_type": "markdown",
   "metadata": {},
   "source": [
    "### Libraries and Packages\n"
   ]
  },
  {
   "cell_type": "code",
   "execution_count": 2,
   "metadata": {},
   "outputs": [],
   "source": [
    "import numpy as np\n",
    "import pandas as pd\n",
    "import matplotlib.pyplot as plt\n",
    "import seaborn as sns"
   ]
  },
  {
   "cell_type": "code",
   "execution_count": 3,
   "metadata": {},
   "outputs": [],
   "source": [
    "import warnings\n",
    "warnings.filterwarnings('ignore')"
   ]
  },
  {
   "cell_type": "markdown",
   "metadata": {},
   "source": [
    "### Importing Dataset"
   ]
  },
  {
   "cell_type": "code",
   "execution_count": 7,
   "metadata": {},
   "outputs": [],
   "source": [
    "from sqlalchemy import create_engine\n",
    "\n",
    "postgres_user = 'dsbc_student'\n",
    "postgres_pw = '7*.8G9QH21'\n",
    "postgres_host = '142.93.121.174'\n",
    "postgres_port = '5432'\n",
    "postgres_db = 'studentsperformance'\n",
    "\n",
    "engine = create_engine('postgresql://{}:{}@{}:{}/{}'.format(\n",
    "    postgres_user, postgres_pw, postgres_host, postgres_port, postgres_db))"
   ]
  },
  {
   "cell_type": "code",
   "execution_count": 10,
   "metadata": {},
   "outputs": [],
   "source": [
    "sql_query = '''\n",
    "SELECT * FROM studentsperformance\n",
    "'''"
   ]
  },
  {
   "cell_type": "code",
   "execution_count": 18,
   "metadata": {},
   "outputs": [],
   "source": [
    "student_df = pd.read_sql_query(sql_query, con=engine)"
   ]
  },
  {
   "cell_type": "code",
   "execution_count": 19,
   "metadata": {},
   "outputs": [],
   "source": [
    "engine.dispose()"
   ]
  },
  {
   "cell_type": "markdown",
   "metadata": {},
   "source": [
    "### Initial look at the Data"
   ]
  },
  {
   "cell_type": "code",
   "execution_count": 12,
   "metadata": {},
   "outputs": [
    {
     "data": {
      "text/html": [
       "<div>\n",
       "<style scoped>\n",
       "    .dataframe tbody tr th:only-of-type {\n",
       "        vertical-align: middle;\n",
       "    }\n",
       "\n",
       "    .dataframe tbody tr th {\n",
       "        vertical-align: top;\n",
       "    }\n",
       "\n",
       "    .dataframe thead th {\n",
       "        text-align: right;\n",
       "    }\n",
       "</style>\n",
       "<table border=\"1\" class=\"dataframe\">\n",
       "  <thead>\n",
       "    <tr style=\"text-align: right;\">\n",
       "      <th></th>\n",
       "      <th>gender</th>\n",
       "      <th>race/ethnicity</th>\n",
       "      <th>parental level of education</th>\n",
       "      <th>lunch</th>\n",
       "      <th>test preparation course</th>\n",
       "      <th>math score</th>\n",
       "      <th>reading score</th>\n",
       "      <th>writing score</th>\n",
       "    </tr>\n",
       "  </thead>\n",
       "  <tbody>\n",
       "    <tr>\n",
       "      <th>540</th>\n",
       "      <td>male</td>\n",
       "      <td>group C</td>\n",
       "      <td>high school</td>\n",
       "      <td>standard</td>\n",
       "      <td>completed</td>\n",
       "      <td>75</td>\n",
       "      <td>69</td>\n",
       "      <td>68</td>\n",
       "    </tr>\n",
       "    <tr>\n",
       "      <th>7</th>\n",
       "      <td>male</td>\n",
       "      <td>group B</td>\n",
       "      <td>some college</td>\n",
       "      <td>free/reduced</td>\n",
       "      <td>none</td>\n",
       "      <td>40</td>\n",
       "      <td>43</td>\n",
       "      <td>39</td>\n",
       "    </tr>\n",
       "    <tr>\n",
       "      <th>705</th>\n",
       "      <td>male</td>\n",
       "      <td>group A</td>\n",
       "      <td>bachelor's degree</td>\n",
       "      <td>free/reduced</td>\n",
       "      <td>none</td>\n",
       "      <td>62</td>\n",
       "      <td>72</td>\n",
       "      <td>65</td>\n",
       "    </tr>\n",
       "    <tr>\n",
       "      <th>916</th>\n",
       "      <td>male</td>\n",
       "      <td>group E</td>\n",
       "      <td>bachelor's degree</td>\n",
       "      <td>standard</td>\n",
       "      <td>completed</td>\n",
       "      <td>100</td>\n",
       "      <td>100</td>\n",
       "      <td>100</td>\n",
       "    </tr>\n",
       "    <tr>\n",
       "      <th>265</th>\n",
       "      <td>male</td>\n",
       "      <td>group D</td>\n",
       "      <td>some high school</td>\n",
       "      <td>free/reduced</td>\n",
       "      <td>none</td>\n",
       "      <td>59</td>\n",
       "      <td>42</td>\n",
       "      <td>41</td>\n",
       "    </tr>\n",
       "  </tbody>\n",
       "</table>\n",
       "</div>"
      ],
      "text/plain": [
       "    gender race/ethnicity parental level of education         lunch  \\\n",
       "540   male        group C                 high school      standard   \n",
       "7     male        group B                some college  free/reduced   \n",
       "705   male        group A           bachelor's degree  free/reduced   \n",
       "916   male        group E           bachelor's degree      standard   \n",
       "265   male        group D            some high school  free/reduced   \n",
       "\n",
       "    test preparation course  math score  reading score  writing score  \n",
       "540               completed          75             69             68  \n",
       "7                      none          40             43             39  \n",
       "705                    none          62             72             65  \n",
       "916               completed         100            100            100  \n",
       "265                    none          59             42             41  "
      ]
     },
     "execution_count": 12,
     "metadata": {},
     "output_type": "execute_result"
    }
   ],
   "source": [
    "student_df.sample(5)"
   ]
  },
  {
   "cell_type": "code",
   "execution_count": 13,
   "metadata": {},
   "outputs": [
    {
     "data": {
      "text/html": [
       "<div>\n",
       "<style scoped>\n",
       "    .dataframe tbody tr th:only-of-type {\n",
       "        vertical-align: middle;\n",
       "    }\n",
       "\n",
       "    .dataframe tbody tr th {\n",
       "        vertical-align: top;\n",
       "    }\n",
       "\n",
       "    .dataframe thead th {\n",
       "        text-align: right;\n",
       "    }\n",
       "</style>\n",
       "<table border=\"1\" class=\"dataframe\">\n",
       "  <thead>\n",
       "    <tr style=\"text-align: right;\">\n",
       "      <th></th>\n",
       "      <th>math score</th>\n",
       "      <th>reading score</th>\n",
       "      <th>writing score</th>\n",
       "    </tr>\n",
       "  </thead>\n",
       "  <tbody>\n",
       "    <tr>\n",
       "      <th>count</th>\n",
       "      <td>1000.00000</td>\n",
       "      <td>1000.000000</td>\n",
       "      <td>1000.000000</td>\n",
       "    </tr>\n",
       "    <tr>\n",
       "      <th>mean</th>\n",
       "      <td>66.08900</td>\n",
       "      <td>69.169000</td>\n",
       "      <td>68.054000</td>\n",
       "    </tr>\n",
       "    <tr>\n",
       "      <th>std</th>\n",
       "      <td>15.16308</td>\n",
       "      <td>14.600192</td>\n",
       "      <td>15.195657</td>\n",
       "    </tr>\n",
       "    <tr>\n",
       "      <th>min</th>\n",
       "      <td>0.00000</td>\n",
       "      <td>17.000000</td>\n",
       "      <td>10.000000</td>\n",
       "    </tr>\n",
       "    <tr>\n",
       "      <th>25%</th>\n",
       "      <td>57.00000</td>\n",
       "      <td>59.000000</td>\n",
       "      <td>57.750000</td>\n",
       "    </tr>\n",
       "    <tr>\n",
       "      <th>50%</th>\n",
       "      <td>66.00000</td>\n",
       "      <td>70.000000</td>\n",
       "      <td>69.000000</td>\n",
       "    </tr>\n",
       "    <tr>\n",
       "      <th>75%</th>\n",
       "      <td>77.00000</td>\n",
       "      <td>79.000000</td>\n",
       "      <td>79.000000</td>\n",
       "    </tr>\n",
       "    <tr>\n",
       "      <th>max</th>\n",
       "      <td>100.00000</td>\n",
       "      <td>100.000000</td>\n",
       "      <td>100.000000</td>\n",
       "    </tr>\n",
       "  </tbody>\n",
       "</table>\n",
       "</div>"
      ],
      "text/plain": [
       "       math score  reading score  writing score\n",
       "count  1000.00000    1000.000000    1000.000000\n",
       "mean     66.08900      69.169000      68.054000\n",
       "std      15.16308      14.600192      15.195657\n",
       "min       0.00000      17.000000      10.000000\n",
       "25%      57.00000      59.000000      57.750000\n",
       "50%      66.00000      70.000000      69.000000\n",
       "75%      77.00000      79.000000      79.000000\n",
       "max     100.00000     100.000000     100.000000"
      ]
     },
     "execution_count": 13,
     "metadata": {},
     "output_type": "execute_result"
    }
   ],
   "source": [
    "student_df.describe()"
   ]
  },
  {
   "cell_type": "code",
   "execution_count": 14,
   "metadata": {},
   "outputs": [
    {
     "name": "stdout",
     "output_type": "stream",
     "text": [
      "<class 'pandas.core.frame.DataFrame'>\n",
      "RangeIndex: 1000 entries, 0 to 999\n",
      "Data columns (total 8 columns):\n",
      "gender                         1000 non-null object\n",
      "race/ethnicity                 1000 non-null object\n",
      "parental level of education    1000 non-null object\n",
      "lunch                          1000 non-null object\n",
      "test preparation course        1000 non-null object\n",
      "math score                     1000 non-null int64\n",
      "reading score                  1000 non-null int64\n",
      "writing score                  1000 non-null int64\n",
      "dtypes: int64(3), object(5)\n",
      "memory usage: 62.6+ KB\n"
     ]
    }
   ],
   "source": [
    "student_df.info()"
   ]
  },
  {
   "cell_type": "code",
   "execution_count": 17,
   "metadata": {},
   "outputs": [
    {
     "data": {
      "image/png": "[encoded data removed]",
      "text/plain": [
       "<Figure size 540x540 with 12 Axes>"
      ]
     },
     "metadata": {
      "needs_background": "light"
     },
     "output_type": "display_data"
    }
   ],
   "source": [
    "sns.pairplot(student_df)\n",
    "plt.show()"
   ]
  },
  {
   "cell_type": "markdown",
   "metadata": {},
   "source": [
    "## 1. Differences between genders, ethnicities, and parental level of education with respect to exam performance"
   ]
  },
  {
   "cell_type": "code",
   "execution_count": 20,
   "metadata": {
    "scrolled": true
   },
   "outputs": [
    {
     "data": {
      "text/html": [
       "<div>\n",
       "<style scoped>\n",
       "    .dataframe tbody tr th:only-of-type {\n",
       "        vertical-align: middle;\n",
       "    }\n",
       "\n",
       "    .dataframe tbody tr th {\n",
       "        vertical-align: top;\n",
       "    }\n",
       "\n",
       "    .dataframe thead th {\n",
       "        text-align: right;\n",
       "    }\n",
       "</style>\n",
       "<table border=\"1\" class=\"dataframe\">\n",
       "  <thead>\n",
       "    <tr style=\"text-align: right;\">\n",
       "      <th></th>\n",
       "      <th>math score</th>\n",
       "      <th>reading score</th>\n",
       "      <th>writing score</th>\n",
       "    </tr>\n",
       "    <tr>\n",
       "      <th>gender</th>\n",
       "      <th></th>\n",
       "      <th></th>\n",
       "      <th></th>\n",
       "    </tr>\n",
       "  </thead>\n",
       "  <tbody>\n",
       "    <tr>\n",
       "      <th>female</th>\n",
       "      <td>63.633205</td>\n",
       "      <td>72.608108</td>\n",
       "      <td>72.467181</td>\n",
       "    </tr>\n",
       "    <tr>\n",
       "      <th>male</th>\n",
       "      <td>68.728216</td>\n",
       "      <td>65.473029</td>\n",
       "      <td>63.311203</td>\n",
       "    </tr>\n",
       "  </tbody>\n",
       "</table>\n",
       "</div>"
      ],
      "text/plain": [
       "        math score  reading score  writing score\n",
       "gender                                          \n",
       "female   63.633205      72.608108      72.467181\n",
       "male     68.728216      65.473029      63.311203"
      ]
     },
     "execution_count": 20,
     "metadata": {},
     "output_type": "execute_result"
    }
   ],
   "source": [
    "student_df.groupby('gender').mean()"
   ]
  },
  {
   "cell_type": "code",
   "execution_count": 38,
   "metadata": {},
   "outputs": [
    {
     "data": {
      "text/plain": [
       "Ttest_indResult(statistic=array([-5.38324587,  7.95930801,  9.97955791]), pvalue=array([9.12018555e-08, 4.68053874e-15, 2.01987771e-22]))"
      ]
     },
     "execution_count": 38,
     "metadata": {},
     "output_type": "execute_result"
    }
   ],
   "source": [
    "from scipy.stats.stats import ttest_ind\n",
    "\n",
    "test_scores = ['math score', 'reading score', 'writing score']\n",
    "\n",
    "ttest_ind(student_df[student_df['gender']=='female'][test_cols],\n",
    "          student_df[student_df['gender']=='male'][test_cols])"
   ]
  },
  {
   "cell_type": "code",
   "execution_count": 32,
   "metadata": {},
   "outputs": [
    {
     "data": {
      "text/html": [
       "<div>\n",
       "<style scoped>\n",
       "    .dataframe tbody tr th:only-of-type {\n",
       "        vertical-align: middle;\n",
       "    }\n",
       "\n",
       "    .dataframe tbody tr th {\n",
       "        vertical-align: top;\n",
       "    }\n",
       "\n",
       "    .dataframe thead th {\n",
       "        text-align: right;\n",
       "    }\n",
       "</style>\n",
       "<table border=\"1\" class=\"dataframe\">\n",
       "  <thead>\n",
       "    <tr style=\"text-align: right;\">\n",
       "      <th></th>\n",
       "      <th>math score</th>\n",
       "      <th>reading score</th>\n",
       "      <th>writing score</th>\n",
       "    </tr>\n",
       "    <tr>\n",
       "      <th>race/ethnicity</th>\n",
       "      <th></th>\n",
       "      <th></th>\n",
       "      <th></th>\n",
       "    </tr>\n",
       "  </thead>\n",
       "  <tbody>\n",
       "    <tr>\n",
       "      <th>group A</th>\n",
       "      <td>61.629213</td>\n",
       "      <td>64.674157</td>\n",
       "      <td>62.674157</td>\n",
       "    </tr>\n",
       "    <tr>\n",
       "      <th>group B</th>\n",
       "      <td>63.452632</td>\n",
       "      <td>67.352632</td>\n",
       "      <td>65.600000</td>\n",
       "    </tr>\n",
       "    <tr>\n",
       "      <th>group C</th>\n",
       "      <td>64.463950</td>\n",
       "      <td>69.103448</td>\n",
       "      <td>67.827586</td>\n",
       "    </tr>\n",
       "    <tr>\n",
       "      <th>group D</th>\n",
       "      <td>67.362595</td>\n",
       "      <td>70.030534</td>\n",
       "      <td>70.145038</td>\n",
       "    </tr>\n",
       "    <tr>\n",
       "      <th>group E</th>\n",
       "      <td>73.821429</td>\n",
       "      <td>73.028571</td>\n",
       "      <td>71.407143</td>\n",
       "    </tr>\n",
       "  </tbody>\n",
       "</table>\n",
       "</div>"
      ],
      "text/plain": [
       "                math score  reading score  writing score\n",
       "race/ethnicity                                          \n",
       "group A          61.629213      64.674157      62.674157\n",
       "group B          63.452632      67.352632      65.600000\n",
       "group C          64.463950      69.103448      67.827586\n",
       "group D          67.362595      70.030534      70.145038\n",
       "group E          73.821429      73.028571      71.407143"
      ]
     },
     "execution_count": 32,
     "metadata": {},
     "output_type": "execute_result"
    }
   ],
   "source": [
    "student_df.groupby('race/ethnicity').mean()"
   ]
  },
  {
   "cell_type": "code",
   "execution_count": 64,
   "metadata": {
    "scrolled": true
   },
   "outputs": [
    {
     "name": "stdout",
     "output_type": "stream",
     "text": [
      "\n",
      "----------------------------\n",
      "Comparison for math score:\n",
      "----------------------------\n",
      "\n",
      "t-test between group B and group C:\n",
      "\tT-statistic = -0.732, p-value = 0.465 \n",
      "t-test between group B and group A:\n",
      "\tT-statistic = 0.936, p-value = 0.350 \n",
      "t-test between group B and group D:\n",
      "\tT-statistic = -2.828, p-value = 0.005 **\n",
      "t-test between group B and group E:\n",
      "\tT-statistic = -6.007, p-value = 0.000 ***\n",
      "t-test between group C and group A:\n",
      "\tT-statistic = 1.600, p-value = 0.110 \n",
      "t-test between group C and group D:\n",
      "\tT-statistic = -2.419, p-value = 0.016 *\n",
      "t-test between group C and group E:\n",
      "\tT-statistic = -6.128, p-value = 0.000 ***\n",
      "t-test between group A and group D:\n",
      "\tT-statistic = -3.347, p-value = 0.001 **\n",
      "t-test between group A and group E:\n",
      "\tT-statistic = -5.936, p-value = 0.000 ***\n",
      "t-test between group D and group E:\n",
      "\tT-statistic = -4.282, p-value = 0.000 ***\n",
      "\n",
      "----------------------------\n",
      "Comparison for reading score:\n",
      "----------------------------\n",
      "\n",
      "t-test between group B and group C:\n",
      "\tT-statistic = -1.322, p-value = 0.187 \n",
      "t-test between group B and group A:\n",
      "\tT-statistic = 1.363, p-value = 0.174 \n",
      "t-test between group B and group D:\n",
      "\tT-statistic = -1.945, p-value = 0.052 \n",
      "t-test between group B and group E:\n",
      "\tT-statistic = -3.386, p-value = 0.001 **\n",
      "t-test between group C and group A:\n",
      "\tT-statistic = 2.575, p-value = 0.010 *\n",
      "t-test between group C and group D:\n",
      "\tT-statistic = -0.797, p-value = 0.426 \n",
      "t-test between group C and group E:\n",
      "\tT-statistic = -2.713, p-value = 0.007 *\n",
      "t-test between group A and group D:\n",
      "\tT-statistic = -3.047, p-value = 0.002 **\n",
      "t-test between group A and group E:\n",
      "\tT-statistic = -4.071, p-value = 0.000 ***\n",
      "t-test between group D and group E:\n",
      "\tT-statistic = -2.011, p-value = 0.045 *\n",
      "\n",
      "----------------------------\n",
      "Comparison for writing score:\n",
      "----------------------------\n",
      "\n",
      "t-test between group B and group C:\n",
      "\tT-statistic = -1.596, p-value = 0.111 \n",
      "t-test between group B and group A:\n",
      "\tT-statistic = 1.462, p-value = 0.145 \n",
      "t-test between group B and group D:\n",
      "\tT-statistic = -3.199, p-value = 0.001 **\n",
      "t-test between group B and group E:\n",
      "\tT-statistic = -3.383, p-value = 0.001 **\n",
      "t-test between group C and group A:\n",
      "\tT-statistic = 2.849, p-value = 0.005 **\n",
      "t-test between group C and group D:\n",
      "\tT-statistic = -1.890, p-value = 0.059 \n",
      "t-test between group C and group E:\n",
      "\tT-statistic = -2.350, p-value = 0.019 *\n",
      "t-test between group A and group D:\n",
      "\tT-statistic = -4.156, p-value = 0.000 ***\n",
      "t-test between group A and group E:\n",
      "\tT-statistic = -4.223, p-value = 0.000 ***\n",
      "t-test between group D and group E:\n",
      "\tT-statistic = -0.824, p-value = 0.410 \n"
     ]
    }
   ],
   "source": [
    "ethnicities = student_df['race/ethnicity'].unique()\n",
    "ethnicities_df = student_df.groupby('race/ethnicity')\n",
    "\n",
    "sig_level = 0.05 # can be changed at your own discretion\n",
    "\n",
    "for score in test_scores:\n",
    "    print('\\n----------------------------')\n",
    "    print(f'Comparison for {score}:')\n",
    "    print('----------------------------\\n')\n",
    "    for i in range(0, len(ethnicities)):\n",
    "        for j in range(i+1, len(ethnicities)):\n",
    "            print(f't-test between {ethnicities[i]} and {ethnicities[j]}:')\n",
    "            ttest = ttest_ind(student_df[student_df['race/ethnicity']==ethnicities[i]][score],\n",
    "                            student_df[student_df['race/ethnicity']==ethnicities[j]][score])\n",
    "            if ttest.pvalue<sig_level*0.01:\n",
    "                sig_marker = '***'\n",
    "            elif ttest.pvalue<sig_level*0.1:\n",
    "                sig_marker = '**'\n",
    "            elif ttest.pvalue<sig_level:\n",
    "                sig_marker = '*'\n",
    "            else:\n",
    "                sig_marker = ''\n",
    "            print(f'\\tT-statistic = {ttest.statistic:2.3f}, p-value = {ttest.pvalue:2.3f} {sig_marker}')"
   ]
  },
  {
   "cell_type": "markdown",
   "metadata": {},
   "source": [
    "By taking a look at which p-values are significant, we can see that for score and ethnicities, all of them are significant except between groups A, B, and C. It would be interesting to know what each group's ethnicity is, although this is understandbly sensitive."
   ]
  },
  {
   "cell_type": "code",
   "execution_count": 63,
   "metadata": {},
   "outputs": [
    {
     "data": {
      "text/html": [
       "<div>\n",
       "<style scoped>\n",
       "    .dataframe tbody tr th:only-of-type {\n",
       "        vertical-align: middle;\n",
       "    }\n",
       "\n",
       "    .dataframe tbody tr th {\n",
       "        vertical-align: top;\n",
       "    }\n",
       "\n",
       "    .dataframe thead th {\n",
       "        text-align: right;\n",
       "    }\n",
       "</style>\n",
       "<table border=\"1\" class=\"dataframe\">\n",
       "  <thead>\n",
       "    <tr style=\"text-align: right;\">\n",
       "      <th></th>\n",
       "      <th>math score</th>\n",
       "      <th>reading score</th>\n",
       "      <th>writing score</th>\n",
       "    </tr>\n",
       "    <tr>\n",
       "      <th>parental level of education</th>\n",
       "      <th></th>\n",
       "      <th></th>\n",
       "      <th></th>\n",
       "    </tr>\n",
       "  </thead>\n",
       "  <tbody>\n",
       "    <tr>\n",
       "      <th>associate's degree</th>\n",
       "      <td>67.882883</td>\n",
       "      <td>70.927928</td>\n",
       "      <td>69.896396</td>\n",
       "    </tr>\n",
       "    <tr>\n",
       "      <th>bachelor's degree</th>\n",
       "      <td>69.389831</td>\n",
       "      <td>73.000000</td>\n",
       "      <td>73.381356</td>\n",
       "    </tr>\n",
       "    <tr>\n",
       "      <th>high school</th>\n",
       "      <td>62.137755</td>\n",
       "      <td>64.704082</td>\n",
       "      <td>62.448980</td>\n",
       "    </tr>\n",
       "    <tr>\n",
       "      <th>master's degree</th>\n",
       "      <td>69.745763</td>\n",
       "      <td>75.372881</td>\n",
       "      <td>75.677966</td>\n",
       "    </tr>\n",
       "    <tr>\n",
       "      <th>some college</th>\n",
       "      <td>67.128319</td>\n",
       "      <td>69.460177</td>\n",
       "      <td>68.840708</td>\n",
       "    </tr>\n",
       "    <tr>\n",
       "      <th>some high school</th>\n",
       "      <td>63.497207</td>\n",
       "      <td>66.938547</td>\n",
       "      <td>64.888268</td>\n",
       "    </tr>\n",
       "  </tbody>\n",
       "</table>\n",
       "</div>"
      ],
      "text/plain": [
       "                             math score  reading score  writing score\n",
       "parental level of education                                          \n",
       "associate's degree            67.882883      70.927928      69.896396\n",
       "bachelor's degree             69.389831      73.000000      73.381356\n",
       "high school                   62.137755      64.704082      62.448980\n",
       "master's degree               69.745763      75.372881      75.677966\n",
       "some college                  67.128319      69.460177      68.840708\n",
       "some high school              63.497207      66.938547      64.888268"
      ]
     },
     "execution_count": 63,
     "metadata": {},
     "output_type": "execute_result"
    }
   ],
   "source": [
    "student_df.groupby('parental level of education').mean()"
   ]
  },
  {
   "cell_type": "code",
   "execution_count": 67,
   "metadata": {},
   "outputs": [
    {
     "name": "stdout",
     "output_type": "stream",
     "text": [
      "\n",
      "----------------------------\n",
      "Comparison for math score:\n",
      "----------------------------\n",
      "\n",
      "t-test between bachelor's degree and some college:\n",
      "\tT-statistic = 1.370, p-value = 0.172 \n",
      "t-test between bachelor's degree and master's degree:\n",
      "\tT-statistic = -0.149, p-value = 0.882 \n",
      "t-test between bachelor's degree and associate's degree:\n",
      "\tT-statistic = 0.879, p-value = 0.380 \n",
      "t-test between bachelor's degree and high school:\n",
      "\tT-statistic = 4.236, p-value = 0.000 ***\n",
      "t-test between bachelor's degree and some high school:\n",
      "\tT-statistic = 3.197, p-value = 0.002 **\n",
      "t-test between some college and master's degree:\n",
      "\tT-statistic = -1.236, p-value = 0.218 \n",
      "t-test between some college and associate's degree:\n",
      "\tT-statistic = -0.543, p-value = 0.588 \n",
      "t-test between some college and high school:\n",
      "\tT-statistic = 3.546, p-value = 0.000 ***\n",
      "t-test between some college and some high school:\n",
      "\tT-statistic = 2.412, p-value = 0.016 *\n",
      "t-test between master's degree and associate's degree:\n",
      "\tT-statistic = 0.841, p-value = 0.401 \n",
      "t-test between master's degree and high school:\n",
      "\tT-statistic = 3.489, p-value = 0.001 **\n",
      "t-test between master's degree and some high school:\n",
      "\tT-statistic = 2.644, p-value = 0.009 *\n",
      "t-test between associate's degree and high school:\n",
      "\tT-statistic = 3.948, p-value = 0.000 ***\n",
      "t-test between associate's degree and some high school:\n",
      "\tT-statistic = 2.820, p-value = 0.005 *\n",
      "t-test between high school and some high school:\n",
      "\tT-statistic = -0.864, p-value = 0.388 \n",
      "\n",
      "----------------------------\n",
      "Comparison for reading score:\n",
      "----------------------------\n",
      "\n",
      "t-test between bachelor's degree and some college:\n",
      "\tT-statistic = 2.205, p-value = 0.028 *\n",
      "t-test between bachelor's degree and master's degree:\n",
      "\tT-statistic = -1.054, p-value = 0.293 \n",
      "t-test between bachelor's degree and associate's degree:\n",
      "\tT-statistic = 1.298, p-value = 0.195 \n",
      "t-test between bachelor's degree and high school:\n",
      "\tT-statistic = 5.018, p-value = 0.000 ***\n",
      "t-test between bachelor's degree and some high school:\n",
      "\tT-statistic = 3.404, p-value = 0.001 **\n",
      "t-test between some college and master's degree:\n",
      "\tT-statistic = -2.889, p-value = 0.004 **\n",
      "t-test between some college and associate's degree:\n",
      "\tT-statistic = -1.112, p-value = 0.267 \n",
      "t-test between some college and high school:\n",
      "\tT-statistic = 3.458, p-value = 0.001 **\n",
      "t-test between some college and some high school:\n",
      "\tT-statistic = 1.714, p-value = 0.087 \n",
      "t-test between master's degree and associate's degree:\n",
      "\tT-statistic = 2.191, p-value = 0.029 *\n",
      "t-test between master's degree and high school:\n",
      "\tT-statistic = 5.113, p-value = 0.000 ***\n",
      "t-test between master's degree and some high school:\n",
      "\tT-statistic = 3.726, p-value = 0.000 ***\n",
      "t-test between associate's degree and high school:\n",
      "\tT-statistic = 4.538, p-value = 0.000 ***\n",
      "t-test between associate's degree and some high school:\n",
      "\tT-statistic = 2.718, p-value = 0.007 *\n",
      "t-test between high school and some high school:\n",
      "\tT-statistic = -1.461, p-value = 0.145 \n",
      "\n",
      "----------------------------\n",
      "Comparison for writing score:\n",
      "----------------------------\n",
      "\n",
      "t-test between bachelor's degree and some college:\n",
      "\tT-statistic = 2.680, p-value = 0.008 *\n",
      "t-test between bachelor's degree and master's degree:\n",
      "\tT-statistic = -1.000, p-value = 0.319 \n",
      "t-test between bachelor's degree and associate's degree:\n",
      "\tT-statistic = 2.116, p-value = 0.035 *\n",
      "t-test between bachelor's degree and high school:\n",
      "\tT-statistic = 6.547, p-value = 0.000 ***\n",
      "t-test between bachelor's degree and some high school:\n",
      "\tT-statistic = 4.668, p-value = 0.000 ***\n",
      "t-test between some college and master's degree:\n",
      "\tT-statistic = -3.169, p-value = 0.002 **\n",
      "t-test between some college and associate's degree:\n",
      "\tT-statistic = -0.762, p-value = 0.447 \n",
      "t-test between some college and high school:\n",
      "\tT-statistic = 4.489, p-value = 0.000 ***\n",
      "t-test between some college and some high school:\n",
      "\tT-statistic = 2.576, p-value = 0.010 *\n",
      "t-test between master's degree and associate's degree:\n",
      "\tT-statistic = 2.781, p-value = 0.006 *\n",
      "t-test between master's degree and high school:\n",
      "\tT-statistic = 6.361, p-value = 0.000 ***\n",
      "t-test between master's degree and some high school:\n",
      "\tT-statistic = 4.708, p-value = 0.000 ***\n",
      "t-test between associate's degree and high school:\n",
      "\tT-statistic = 5.349, p-value = 0.000 ***\n",
      "t-test between associate's degree and some high school:\n",
      "\tT-statistic = 3.332, p-value = 0.001 **\n",
      "t-test between high school and some high school:\n",
      "\tT-statistic = -1.584, p-value = 0.114 \n"
     ]
    }
   ],
   "source": [
    "educations = student_df['parental level of education'].unique()\n",
    "ethnicities_df = student_df.groupby('parental level of education')\n",
    "\n",
    "sig_level = 0.05 # can be changed at your own discretion\n",
    "\n",
    "for score in test_scores:\n",
    "    print('\\n----------------------------')\n",
    "    print(f'Comparison for {score}:')\n",
    "    print('----------------------------\\n')\n",
    "    for i in range(0, len(educations)):\n",
    "        for j in range(i+1, len(educations)):\n",
    "            print(f't-test between {educations[i]} and {educations[j]}:')\n",
    "            ttest = ttest_ind(student_df[student_df['parental level of education']==educations[i]][score],\n",
    "                            student_df[student_df['parental level of education']==educations[j]][score])\n",
    "            if ttest.pvalue<sig_level*0.01:\n",
    "                sig_marker = '***'\n",
    "            elif ttest.pvalue<sig_level*0.1:\n",
    "                sig_marker = '**'\n",
    "            elif ttest.pvalue<sig_level:\n",
    "                sig_marker = '*'\n",
    "            else:\n",
    "                sig_marker = ''\n",
    "            print(f'\\tT-statistic = {ttest.statistic:2.3f}, p-value = {ttest.pvalue:2.3f} {sig_marker}')"
   ]
  },
  {
   "cell_type": "markdown",
   "metadata": {},
   "source": [
    "We can see that there are significant differences between having a higher degree and not. Even an associates is significant when compared to only high school."
   ]
  },
  {
   "cell_type": "markdown",
   "metadata": {},
   "source": [
    "## 2. Differences between the lunch types with respect to exam performance"
   ]
  },
  {
   "cell_type": "code",
   "execution_count": 68,
   "metadata": {},
   "outputs": [
    {
     "data": {
      "text/html": [
       "<div>\n",
       "<style scoped>\n",
       "    .dataframe tbody tr th:only-of-type {\n",
       "        vertical-align: middle;\n",
       "    }\n",
       "\n",
       "    .dataframe tbody tr th {\n",
       "        vertical-align: top;\n",
       "    }\n",
       "\n",
       "    .dataframe thead th {\n",
       "        text-align: right;\n",
       "    }\n",
       "</style>\n",
       "<table border=\"1\" class=\"dataframe\">\n",
       "  <thead>\n",
       "    <tr style=\"text-align: right;\">\n",
       "      <th></th>\n",
       "      <th>math score</th>\n",
       "      <th>reading score</th>\n",
       "      <th>writing score</th>\n",
       "    </tr>\n",
       "    <tr>\n",
       "      <th>lunch</th>\n",
       "      <th></th>\n",
       "      <th></th>\n",
       "      <th></th>\n",
       "    </tr>\n",
       "  </thead>\n",
       "  <tbody>\n",
       "    <tr>\n",
       "      <th>free/reduced</th>\n",
       "      <td>58.921127</td>\n",
       "      <td>64.653521</td>\n",
       "      <td>63.022535</td>\n",
       "    </tr>\n",
       "    <tr>\n",
       "      <th>standard</th>\n",
       "      <td>70.034109</td>\n",
       "      <td>71.654264</td>\n",
       "      <td>70.823256</td>\n",
       "    </tr>\n",
       "  </tbody>\n",
       "</table>\n",
       "</div>"
      ],
      "text/plain": [
       "              math score  reading score  writing score\n",
       "lunch                                                 \n",
       "free/reduced   58.921127      64.653521      63.022535\n",
       "standard       70.034109      71.654264      70.823256"
      ]
     },
     "execution_count": 68,
     "metadata": {},
     "output_type": "execute_result"
    }
   ],
   "source": [
    "student_df.groupby('lunch').mean()"
   ]
  },
  {
   "cell_type": "code",
   "execution_count": 70,
   "metadata": {},
   "outputs": [
    {
     "data": {
      "text/plain": [
       "Ttest_indResult(statistic=array([-11.83718047,  -7.45105647,  -8.0097842 ]), pvalue=array([2.41319560e-30, 2.00279665e-13, 3.18618958e-15]))"
      ]
     },
     "execution_count": 70,
     "metadata": {},
     "output_type": "execute_result"
    }
   ],
   "source": [
    "ttest_ind(student_df[student_df['lunch']=='free/reduced'][test_scores],\n",
    "          student_df[student_df['lunch']=='standard'][test_scores])"
   ]
  },
  {
   "cell_type": "markdown",
   "metadata": {},
   "source": [
    "While there is a significant difference between the students who have free/reduced lunch and standard lunch, this is a correlation probably due to another third variable that better explains the discrepancy - class difference. Richer kids may have more access to other features that allow for better scores (e.g. tutoring, parents who had a higher education, overall wealth benefits)."
   ]
  },
  {
   "cell_type": "markdown",
   "metadata": {},
   "source": [
    "## 3. The effect of test preparation courses"
   ]
  },
  {
   "cell_type": "code",
   "execution_count": 71,
   "metadata": {},
   "outputs": [
    {
     "data": {
      "text/html": [
       "<div>\n",
       "<style scoped>\n",
       "    .dataframe tbody tr th:only-of-type {\n",
       "        vertical-align: middle;\n",
       "    }\n",
       "\n",
       "    .dataframe tbody tr th {\n",
       "        vertical-align: top;\n",
       "    }\n",
       "\n",
       "    .dataframe thead th {\n",
       "        text-align: right;\n",
       "    }\n",
       "</style>\n",
       "<table border=\"1\" class=\"dataframe\">\n",
       "  <thead>\n",
       "    <tr style=\"text-align: right;\">\n",
       "      <th></th>\n",
       "      <th>math score</th>\n",
       "      <th>reading score</th>\n",
       "      <th>writing score</th>\n",
       "    </tr>\n",
       "    <tr>\n",
       "      <th>test preparation course</th>\n",
       "      <th></th>\n",
       "      <th></th>\n",
       "      <th></th>\n",
       "    </tr>\n",
       "  </thead>\n",
       "  <tbody>\n",
       "    <tr>\n",
       "      <th>completed</th>\n",
       "      <td>69.695531</td>\n",
       "      <td>73.893855</td>\n",
       "      <td>74.418994</td>\n",
       "    </tr>\n",
       "    <tr>\n",
       "      <th>none</th>\n",
       "      <td>64.077882</td>\n",
       "      <td>66.534268</td>\n",
       "      <td>64.504673</td>\n",
       "    </tr>\n",
       "  </tbody>\n",
       "</table>\n",
       "</div>"
      ],
      "text/plain": [
       "                         math score  reading score  writing score\n",
       "test preparation course                                          \n",
       "completed                 69.695531      73.893855      74.418994\n",
       "none                      64.077882      66.534268      64.504673"
      ]
     },
     "execution_count": 71,
     "metadata": {},
     "output_type": "execute_result"
    }
   ],
   "source": [
    "student_df.groupby('test preparation course').mean()"
   ]
  },
  {
   "cell_type": "code",
   "execution_count": 74,
   "metadata": {},
   "outputs": [
    {
     "data": {
      "text/plain": [
       "Ttest_indResult(statistic=array([ 5.70461642,  7.87166354, 10.40917344]), pvalue=array([1.53591346e-08, 9.08178334e-15, 3.68529174e-24]))"
      ]
     },
     "execution_count": 74,
     "metadata": {},
     "output_type": "execute_result"
    }
   ],
   "source": [
    "ttest_ind(student_df[student_df['test preparation course']=='completed'][test_scores],\n",
    "          student_df[student_df['test preparation course']=='none'][test_scores])"
   ]
  },
  {
   "cell_type": "markdown",
   "metadata": {},
   "source": [
    "There are significant differences. For example, math scores apprently were not helped by test preparation courses, however, it may be that students who took prep courses for math were already performly poorly and did better. Test preparation courses seem to have helped with reading and writing."
   ]
  },
  {
   "cell_type": "markdown",
   "metadata": {},
   "source": [
    "## 4. Exams that are most correlated with each other"
   ]
  },
  {
   "cell_type": "code",
   "execution_count": 75,
   "metadata": {},
   "outputs": [
    {
     "data": {
      "text/html": [
       "<div>\n",
       "<style scoped>\n",
       "    .dataframe tbody tr th:only-of-type {\n",
       "        vertical-align: middle;\n",
       "    }\n",
       "\n",
       "    .dataframe tbody tr th {\n",
       "        vertical-align: top;\n",
       "    }\n",
       "\n",
       "    .dataframe thead th {\n",
       "        text-align: right;\n",
       "    }\n",
       "</style>\n",
       "<table border=\"1\" class=\"dataframe\">\n",
       "  <thead>\n",
       "    <tr style=\"text-align: right;\">\n",
       "      <th></th>\n",
       "      <th>math score</th>\n",
       "      <th>reading score</th>\n",
       "      <th>writing score</th>\n",
       "    </tr>\n",
       "  </thead>\n",
       "  <tbody>\n",
       "    <tr>\n",
       "      <th>math score</th>\n",
       "      <td>1.000000</td>\n",
       "      <td>0.817580</td>\n",
       "      <td>0.802642</td>\n",
       "    </tr>\n",
       "    <tr>\n",
       "      <th>reading score</th>\n",
       "      <td>0.817580</td>\n",
       "      <td>1.000000</td>\n",
       "      <td>0.954598</td>\n",
       "    </tr>\n",
       "    <tr>\n",
       "      <th>writing score</th>\n",
       "      <td>0.802642</td>\n",
       "      <td>0.954598</td>\n",
       "      <td>1.000000</td>\n",
       "    </tr>\n",
       "  </tbody>\n",
       "</table>\n",
       "</div>"
      ],
      "text/plain": [
       "               math score  reading score  writing score\n",
       "math score       1.000000       0.817580       0.802642\n",
       "reading score    0.817580       1.000000       0.954598\n",
       "writing score    0.802642       0.954598       1.000000"
      ]
     },
     "execution_count": 75,
     "metadata": {},
     "output_type": "execute_result"
    }
   ],
   "source": [
    "student_df[test_scores].corr()"
   ]
  },
  {
   "cell_type": "code",
   "execution_count": 84,
   "metadata": {},
   "outputs": [
    {
     "data": {
      "image/png": "[encoded data removed]",
      "text/plain": [
       "<Figure size 432x288 with 2 Axes>"
      ]
     },
     "metadata": {
      "needs_background": "light"
     },
     "output_type": "display_data"
    }
   ],
   "source": [
    "sns.heatmap(student_df[test_scores].corr(), annot=True, square=True, linewidths=.5)\n",
    "plt.title('correlation matrix (student test scores)')\n",
    "plt.show()"
   ]
  },
  {
   "cell_type": "markdown",
   "metadata": {},
   "source": [
    "Reading and Writing are most correlated. However, math scores with the other two are also quite highly correlated."
   ]
  },
  {
   "cell_type": "code",
   "execution_count": null,
   "metadata": {},
   "outputs": [],
   "source": []
  }
 ],
 "metadata": {
  "kernelspec": {
   "display_name": "Python 3",
   "language": "python",
   "name": "python3"
  },
  "language_info": {
   "codemirror_mode": {
    "name": "ipython",
    "version": 3
   },
   "file_extension": ".py",
   "mimetype": "text/x-python",
   "name": "python",
   "nbconvert_exporter": "python",
   "pygments_lexer": "ipython3",
   "version": "3.7.5"
  }
 },
 "nbformat": 4,
 "nbformat_minor": 2
}
